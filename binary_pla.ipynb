{
 "cells": [
  {
   "cell_type": "markdown",
   "id": "114d14e4-8a6e-4543-bd01-5857f0f91a17",
   "metadata": {},
   "source": [
    "# Binary Perceptron Learning Algorithm\n",
    "\n",
    "A really bad linear algorithm..."
   ]
  },
  {
   "cell_type": "code",
   "execution_count": 1,
   "id": "58008151",
   "metadata": {},
   "outputs": [],
   "source": [
    "import numpy as np\n",
    "from numpy._typing import NDArray\n",
    "import pandas as pd"
   ]
  },
  {
   "cell_type": "code",
   "execution_count": 2,
   "id": "5cd8f247-f27f-4864-b9d9-5070f5f01a10",
   "metadata": {},
   "outputs": [],
   "source": [
    "def perceptron(\n",
    "    X: NDArray[np.float64],\n",
    "    y: NDArray[np.int8],\n",
    "    w0: NDArray[np.float64],\n",
    "    b0: float,\n",
    "    random_state: int | None,\n",
    ") -> tuple[list[int], NDArray[np.float64], np.float64]:\n",
    "    n_datapoints, dim_features = X.shape\n",
    "    assert len(y) == n_datapoints\n",
    "    assert len(w0) == dim_features\n",
    "\n",
    "    # Add new dimension to X and create array of weights appending the bias\n",
    "    # factor. This will be useful when taking the dot product of the arrays.\n",
    "    padding = np.repeat(1.0, n_datapoints)\n",
    "    X = np.column_stack((X, padding))\n",
    "    w = np.append(w0, b0)\n",
    "\n",
    "    if isinstance(random_state, int):\n",
    "        np.random.seed(random_state)\n",
    "\n",
    "    epoch_indices = np.arange(n_datapoints)\n",
    "    n_updates_per_epoch = []\n",
    "    while True:\n",
    "        if isinstance(random_state, int):\n",
    "            np.random.shuffle(epoch_indices)\n",
    "\n",
    "        n_updates_per_epoch.append(0)\n",
    "        for idx in epoch_indices:\n",
    "            wrong_classification = y[idx] * np.dot(w, X[idx]) <= 0\n",
    "            if wrong_classification:\n",
    "                w += y[idx] * X[idx]\n",
    "                n_updates_per_epoch[-1] += 1\n",
    "\n",
    "        if n_updates_per_epoch[-1] == 0:\n",
    "            break\n",
    "\n",
    "    return n_updates_per_epoch, w[:-1], w[-1]\n"
   ]
  },
  {
   "cell_type": "markdown",
   "id": "aa692c0d",
   "metadata": {},
   "source": [
    "# Iris dataset"
   ]
  },
  {
   "cell_type": "markdown",
   "id": "886a0dde",
   "metadata": {},
   "source": [
    "Getting the data"
   ]
  },
  {
   "cell_type": "code",
   "execution_count": 3,
   "id": "fe73bd93",
   "metadata": {},
   "outputs": [],
   "source": [
    "df = pd.read_csv(\n",
    "    filepath_or_buffer=\"https://archive.ics.uci.edu/ml/machine-learning-databases/iris/iris.data\",\n",
    "    header=None,\n",
    ")\n",
    "\n",
    "df.columns = [\n",
    "    \"sepal length in cm\",\n",
    "    \"sepal width in cm\",\n",
    "    \"petal length in cm\",\n",
    "    \"petal width in cm\",\n",
    "    \"class label\",\n",
    "]"
   ]
  },
  {
   "cell_type": "markdown",
   "id": "f54d0386",
   "metadata": {},
   "source": [
    "## Processing the wanted data out of the Iris dataset"
   ]
  },
  {
   "cell_type": "code",
   "execution_count": 4,
   "id": "6be78ef5",
   "metadata": {},
   "outputs": [],
   "source": [
    "# Dataset preprocessing\n",
    "y = df[\"class label\"].to_numpy()\n",
    "y = np.trim_zeros(np.select([y == \"Iris-setosa\", y == \"Iris-versicolor\"], [-1, 1]))\n",
    "X = df[[\"sepal length in cm\", \"petal length in cm\"]].to_numpy()\n",
    "X = X[range(len(y))]"
   ]
  },
  {
   "cell_type": "markdown",
   "id": "8a790f9b",
   "metadata": {},
   "source": [
    "# Tests"
   ]
  },
  {
   "cell_type": "markdown",
   "id": "814f766c",
   "metadata": {},
   "source": [
    "## Test 1"
   ]
  },
  {
   "cell_type": "code",
   "execution_count": 5,
   "id": "6844aa58",
   "metadata": {},
   "outputs": [
    {
     "name": "stdout",
     "output_type": "stream",
     "text": [
      "------------------------------------ Test 1 ------------------------------------\n",
      "n = [12, 0]\n",
      "w = [-5.8 11.8]\n",
      "b = -1.0\n",
      "\n"
     ]
    }
   ],
   "source": [
    "n, w, b = perceptron(X, y, np.array([1.0, 1.0]), 1.0, 1)\n",
    "print(f\"{' Test 1 ':-^80}\\nn = {n}\\nw = {w}\\nb = {b}\\n\")\n",
    "np.testing.assert_array_equal(n, [12, 0])\n",
    "np.testing.assert_array_almost_equal(w, np.array([-5.8, 11.8]))\n",
    "np.testing.assert_approx_equal(b, -1.0)"
   ]
  },
  {
   "cell_type": "markdown",
   "id": "e75cb6ec",
   "metadata": {},
   "source": [
    "## Test 2"
   ]
  },
  {
   "cell_type": "code",
   "execution_count": 6,
   "id": "b8e1a088",
   "metadata": {},
   "outputs": [
    {
     "name": "stdout",
     "output_type": "stream",
     "text": [
      "------------------------------------ Test 2 ------------------------------------\n",
      "n = [2, 2, 3, 2, 1, 0]\n",
      "w = [-3.6  9.3]\n",
      "b = -1.9\n",
      "\n"
     ]
    }
   ],
   "source": [
    "n, w, b = perceptron(X, y, np.array([0.1, 0.1]), 0.1, None)\n",
    "print(f\"{' Test 2 ':-^80}\\nn = {n}\\nw = {w}\\nb = {b}\\n\")\n",
    "np.testing.assert_array_equal(n, [2, 2, 3, 2, 1, 0])\n",
    "np.testing.assert_array_almost_equal(w, np.array([-3.6, 9.3]))\n",
    "np.testing.assert_approx_equal(b, -1.9)"
   ]
  },
  {
   "cell_type": "markdown",
   "id": "8eb4828a",
   "metadata": {},
   "source": [
    "## Test 3"
   ]
  },
  {
   "cell_type": "code",
   "execution_count": 7,
   "id": "c6f1d5ec",
   "metadata": {},
   "outputs": [
    {
     "name": "stdout",
     "output_type": "stream",
     "text": [
      "------------------------------------ Test 3 ------------------------------------\n",
      "n = [12, 0]\n",
      "w = [-5.  11.9]\n",
      "b = -1.9\n",
      "\n"
     ]
    }
   ],
   "source": [
    "n, w, b = perceptron(X, y, np.array([0.1, 0.1]), 0.1, 2)\n",
    "print(f\"{' Test 3 ':-^80}\\nn = {n}\\nw = {w}\\nb = {b}\\n\")\n",
    "np.testing.assert_array_equal(n, [12, 0])\n",
    "np.testing.assert_array_almost_equal(w, np.array([-5.0, 11.9]))\n",
    "np.testing.assert_approx_equal(b, -1.9)"
   ]
  },
  {
   "cell_type": "markdown",
   "id": "bf5d5c7e",
   "metadata": {},
   "source": [
    "## Test 4"
   ]
  },
  {
   "cell_type": "code",
   "execution_count": 8,
   "id": "0a3cccb5",
   "metadata": {
    "tags": []
   },
   "outputs": [
    {
     "name": "stdout",
     "output_type": "stream",
     "text": [
      "------------------------------------ Test 4 ------------------------------------\n",
      "n = [6, 4, 0]\n",
      "w = [-4.   8.2]\n",
      "b = -1.9\n",
      "\n"
     ]
    }
   ],
   "source": [
    "n, w, b = perceptron(X, y, np.array([0.1, 0.1]), 0.1, 3)\n",
    "print(f\"{' Test 4 ':-^80}\\nn = {n}\\nw = {w}\\nb = {b}\\n\")\n",
    "np.testing.assert_array_equal(n, [6, 4, 0])\n",
    "np.testing.assert_array_almost_equal(w, np.array([-4.0, 8.2]))\n",
    "np.testing.assert_approx_equal(b, -1.9)"
   ]
  }
 ],
 "metadata": {
  "kernelspec": {
   "display_name": "Python 3 (ipykernel)",
   "language": "python",
   "name": "python3"
  },
  "language_info": {
   "codemirror_mode": {
    "name": "ipython",
    "version": 3
   },
   "file_extension": ".py",
   "mimetype": "text/x-python",
   "name": "python",
   "nbconvert_exporter": "python",
   "pygments_lexer": "ipython3",
   "version": "3.10.10"
  }
 },
 "nbformat": 4,
 "nbformat_minor": 5
}

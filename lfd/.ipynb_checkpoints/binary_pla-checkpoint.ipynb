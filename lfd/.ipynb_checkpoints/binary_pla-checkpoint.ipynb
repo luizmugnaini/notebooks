{
 "cells": [
  {
   "attachments": {},
   "cell_type": "markdown",
   "id": "114d14e4-8a6e-4543-bd01-5857f0f91a17",
   "metadata": {},
   "source": [
    "# Binary Perceptron Learning Algorithm\n",
    "\n",
    "A really bad algorithm..."
   ]
  },
  {
   "cell_type": "code",
   "execution_count": 102,
   "id": "5cd8f247-f27f-4864-b9d9-5070f5f01a10",
   "metadata": {},
   "outputs": [],
   "source": [
    "import numpy as np\n",
    "from numpy._typing import NDArray\n",
    "\n",
    "\n",
    "class Perceptron:\n",
    "    def __init__(self, X: NDArray, y: NDArray):\n",
    "        assert(X.shape[0] == len(y))\n",
    "        dim_features = X.shape[1]\n",
    "        # Add new dimension for the sake of convenience.\n",
    "        self.X = np.array([np.insert(x, len(x), 1) for x in X])\n",
    "        self.y = y\n",
    "        self.weights = np.zeros(dim_features + 1) \n",
    "\n",
    "    def fit(self):\n",
    "        \"\"\"Perceptron learning algorithm (PLA):\n",
    "        Assumes to be dealing with a binary classification problem and that the data is linearly separable.\n",
    "        \"\"\"\n",
    "        while True:\n",
    "            # While there are still misclassifications, continue tweaking the weights.\n",
    "            n_misclassifications = 0\n",
    "            for x, y in zip(self.X, self.y):\n",
    "                if y * (np.dot(self.weights, x)) <= 0:\n",
    "                    self.weights += y * x\n",
    "                    n_misclassifications += 1\n",
    "\n",
    "            if n_misclassifications == 0:\n",
    "                break\n",
    "\n",
    "    def get_weights(self):\n",
    "        return self.weights\n",
    "    "
   ]
  }
 ],
 "metadata": {
  "kernelspec": {
   "display_name": "Python 3",
   "language": "python",
   "name": "python3"
  },
  "language_info": {
   "codemirror_mode": {
    "name": "ipython",
    "version": 3
   },
   "file_extension": ".py",
   "mimetype": "text/x-python",
   "name": "python",
   "nbconvert_exporter": "python",
   "pygments_lexer": "ipython3",
   "version": "3.10.9"
  }
 },
 "nbformat": 4,
 "nbformat_minor": 5
}

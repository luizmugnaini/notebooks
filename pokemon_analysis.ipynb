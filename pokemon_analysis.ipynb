{
 "cells": [
  {
   "cell_type": "markdown",
   "id": "cc71cbf8-b825-4ff5-8b8a-09aff373ed77",
   "metadata": {
    "tags": []
   },
   "source": [
    "# Problem Statement: Classifying Pokemon Types\n",
    "\n",
    "* **Vanilla version:** We want to construct a binary classifier on the feature `\"type1\"`, and we'll restrict ourselves to Pokemon of type `\"water\"` or `\"normal\"`. To do that, we can only use electric type moves (since Pikachu is the only Pokemon in our party), thus the only feature of the type `\"against_*\"` that can be considered is `\"against_electric\"`. Moreover, all of the features `[\"type2\", \"abilities\", \"classification\"]` are unknown to us.\n",
    "\n",
    "* **Off-road version:** The code below can be modified to do multiclass classification, considering both columns `[\"type1\", \"type2\"]` or just one of them (this can be modified by altering the variable `TARGETS`). The considered types will be given by the variable `RESTRICTION`. Moreover, the Pokemon types in your party can be altered via the variable `SUPPORT_TYPES`."
   ]
  },
  {
   "cell_type": "markdown",
   "id": "d44223c7-d0ae-442e-9a5d-9eaaad11b613",
   "metadata": {
    "tags": []
   },
   "source": [
    "# Imports"
   ]
  },
  {
   "cell_type": "code",
   "execution_count": 42,
   "id": "fe652be6-bffa-4fe3-a32e-ef2a92fc0181",
   "metadata": {},
   "outputs": [],
   "source": [
    "import pandas as pd\n",
    "import numpy as np\n",
    "import matplotlib.pyplot as plt\n",
    "\n",
    "# Data processing\n",
    "from sklearn.preprocessing import LabelEncoder, StandardScaler\n",
    "from sklearn.impute import SimpleImputer\n",
    "from sklearn.model_selection import (\n",
    "    train_test_split,\n",
    "    StratifiedShuffleSplit,\n",
    "    RandomizedSearchCV,\n",
    ")\n",
    "from collections import Counter\n",
    "\n",
    "# Testing\n",
    "from sklearn.metrics import (\n",
    "    accuracy_score,\n",
    "    confusion_matrix,\n",
    "    ConfusionMatrixDisplay\n",
    ")\n",
    "\n",
    "# Utils\n",
    "from sklearn.utils.multiclass import type_of_target\n",
    "import pprint\n",
    "\n",
    "# Models\n",
    "from sklearn.linear_model import LogisticRegression\n",
    "from sklearn.svm import SVC\n",
    "from sklearn.tree import DecisionTreeClassifier\n",
    "from sklearn.ensemble import RandomForestClassifier"
   ]
  },
  {
   "cell_type": "markdown",
   "id": "28efd067-e590-4918-802d-9276315345c2",
   "metadata": {
    "tags": []
   },
   "source": [
    "# Random State\n",
    "\n",
    "We set a random state constant to be used throughout the notebook for better reproducibility."
   ]
  },
  {
   "cell_type": "code",
   "execution_count": 43,
   "id": "847c6c71-1400-4cb7-8809-0a4b61110e33",
   "metadata": {},
   "outputs": [],
   "source": [
    "RANDOM_STATE = 529"
   ]
  },
  {
   "cell_type": "markdown",
   "id": "97ab9dde-f2b9-417f-815c-404b2500ce75",
   "metadata": {
    "tags": []
   },
   "source": [
    "# Data Pre-Processing Stage\n",
    "\n",
    "We want to remove from our dataset all informations that should not be available to us, those are: `\"type2\"`, `\"abilities\"`, and every `\"against_\" + type` where `type` isn't `\"electric\"`. We can achieve this by dropping all columns matching the regular expression `\"type2|classification|abilities|against_(?!electric)\"` (in fact, there is a typo in the database, and \"classification\" is written as \"classfication\"). It should also be noted that the columns `[\"pokedex_number\", \"name\", \"japanese_name\"]` columns are irrelevant for our classification problem, so  we'll also drop it. One may think that `\"generation\"` should also be dropped but it is known that different generations have distinct typing distributions so we'll stick to it.\n",
    "\n",
    "In a second thought, the `\"name\"` column may be an interesting feature to exploit due to the fact that pokemons tend to maintain a suffix or prefix throughout the whole line of evolution. This however would require an encoder that preserves string morphology in order to maintain the similarities between the pokemon names. For the time being I do not know of a technique which can deal with this."
   ]
  },
  {
   "cell_type": "code",
   "execution_count": 44,
   "id": "c08f9859-0bd4-4c1c-8729-78b9a758d2eb",
   "metadata": {},
   "outputs": [],
   "source": [
    "df = pd.read_csv(\"datasets/pokemon/pokemon.csv\")"
   ]
  },
  {
   "cell_type": "markdown",
   "id": "5447f3ac-3ce7-4230-9147-4191750285e5",
   "metadata": {},
   "source": [
    "Lets take a look at what we have in our hands by looking at the first few rows of our dataframe."
   ]
  },
  {
   "cell_type": "code",
   "execution_count": 45,
   "id": "7f2f9807-123b-46bd-9bd7-7f58caa0b4a5",
   "metadata": {
    "tags": []
   },
   "outputs": [
    {
     "data": {
      "text/html": [
       "<div>\n",
       "<style scoped>\n",
       "    .dataframe tbody tr th:only-of-type {\n",
       "        vertical-align: middle;\n",
       "    }\n",
       "\n",
       "    .dataframe tbody tr th {\n",
       "        vertical-align: top;\n",
       "    }\n",
       "\n",
       "    .dataframe thead th {\n",
       "        text-align: right;\n",
       "    }\n",
       "</style>\n",
       "<table border=\"1\" class=\"dataframe\">\n",
       "  <thead>\n",
       "    <tr style=\"text-align: right;\">\n",
       "      <th></th>\n",
       "      <th>abilities</th>\n",
       "      <th>against_bug</th>\n",
       "      <th>against_dark</th>\n",
       "      <th>against_dragon</th>\n",
       "      <th>against_electric</th>\n",
       "      <th>against_fairy</th>\n",
       "      <th>against_fight</th>\n",
       "      <th>against_fire</th>\n",
       "      <th>against_flying</th>\n",
       "      <th>against_ghost</th>\n",
       "      <th>...</th>\n",
       "      <th>percentage_male</th>\n",
       "      <th>pokedex_number</th>\n",
       "      <th>sp_attack</th>\n",
       "      <th>sp_defense</th>\n",
       "      <th>speed</th>\n",
       "      <th>type1</th>\n",
       "      <th>type2</th>\n",
       "      <th>weight_kg</th>\n",
       "      <th>generation</th>\n",
       "      <th>is_legendary</th>\n",
       "    </tr>\n",
       "  </thead>\n",
       "  <tbody>\n",
       "    <tr>\n",
       "      <th>0</th>\n",
       "      <td>['Overgrow', 'Chlorophyll']</td>\n",
       "      <td>1.0</td>\n",
       "      <td>1.0</td>\n",
       "      <td>1.0</td>\n",
       "      <td>0.5</td>\n",
       "      <td>0.5</td>\n",
       "      <td>0.5</td>\n",
       "      <td>2.0</td>\n",
       "      <td>2.0</td>\n",
       "      <td>1.0</td>\n",
       "      <td>...</td>\n",
       "      <td>88.1</td>\n",
       "      <td>1</td>\n",
       "      <td>65</td>\n",
       "      <td>65</td>\n",
       "      <td>45</td>\n",
       "      <td>grass</td>\n",
       "      <td>poison</td>\n",
       "      <td>6.9</td>\n",
       "      <td>1</td>\n",
       "      <td>0</td>\n",
       "    </tr>\n",
       "    <tr>\n",
       "      <th>1</th>\n",
       "      <td>['Overgrow', 'Chlorophyll']</td>\n",
       "      <td>1.0</td>\n",
       "      <td>1.0</td>\n",
       "      <td>1.0</td>\n",
       "      <td>0.5</td>\n",
       "      <td>0.5</td>\n",
       "      <td>0.5</td>\n",
       "      <td>2.0</td>\n",
       "      <td>2.0</td>\n",
       "      <td>1.0</td>\n",
       "      <td>...</td>\n",
       "      <td>88.1</td>\n",
       "      <td>2</td>\n",
       "      <td>80</td>\n",
       "      <td>80</td>\n",
       "      <td>60</td>\n",
       "      <td>grass</td>\n",
       "      <td>poison</td>\n",
       "      <td>13.0</td>\n",
       "      <td>1</td>\n",
       "      <td>0</td>\n",
       "    </tr>\n",
       "    <tr>\n",
       "      <th>2</th>\n",
       "      <td>['Overgrow', 'Chlorophyll']</td>\n",
       "      <td>1.0</td>\n",
       "      <td>1.0</td>\n",
       "      <td>1.0</td>\n",
       "      <td>0.5</td>\n",
       "      <td>0.5</td>\n",
       "      <td>0.5</td>\n",
       "      <td>2.0</td>\n",
       "      <td>2.0</td>\n",
       "      <td>1.0</td>\n",
       "      <td>...</td>\n",
       "      <td>88.1</td>\n",
       "      <td>3</td>\n",
       "      <td>122</td>\n",
       "      <td>120</td>\n",
       "      <td>80</td>\n",
       "      <td>grass</td>\n",
       "      <td>poison</td>\n",
       "      <td>100.0</td>\n",
       "      <td>1</td>\n",
       "      <td>0</td>\n",
       "    </tr>\n",
       "    <tr>\n",
       "      <th>3</th>\n",
       "      <td>['Blaze', 'Solar Power']</td>\n",
       "      <td>0.5</td>\n",
       "      <td>1.0</td>\n",
       "      <td>1.0</td>\n",
       "      <td>1.0</td>\n",
       "      <td>0.5</td>\n",
       "      <td>1.0</td>\n",
       "      <td>0.5</td>\n",
       "      <td>1.0</td>\n",
       "      <td>1.0</td>\n",
       "      <td>...</td>\n",
       "      <td>88.1</td>\n",
       "      <td>4</td>\n",
       "      <td>60</td>\n",
       "      <td>50</td>\n",
       "      <td>65</td>\n",
       "      <td>fire</td>\n",
       "      <td>NaN</td>\n",
       "      <td>8.5</td>\n",
       "      <td>1</td>\n",
       "      <td>0</td>\n",
       "    </tr>\n",
       "    <tr>\n",
       "      <th>4</th>\n",
       "      <td>['Blaze', 'Solar Power']</td>\n",
       "      <td>0.5</td>\n",
       "      <td>1.0</td>\n",
       "      <td>1.0</td>\n",
       "      <td>1.0</td>\n",
       "      <td>0.5</td>\n",
       "      <td>1.0</td>\n",
       "      <td>0.5</td>\n",
       "      <td>1.0</td>\n",
       "      <td>1.0</td>\n",
       "      <td>...</td>\n",
       "      <td>88.1</td>\n",
       "      <td>5</td>\n",
       "      <td>80</td>\n",
       "      <td>65</td>\n",
       "      <td>80</td>\n",
       "      <td>fire</td>\n",
       "      <td>NaN</td>\n",
       "      <td>19.0</td>\n",
       "      <td>1</td>\n",
       "      <td>0</td>\n",
       "    </tr>\n",
       "  </tbody>\n",
       "</table>\n",
       "<p>5 rows × 41 columns</p>\n",
       "</div>"
      ],
      "text/plain": [
       "                     abilities  against_bug  against_dark  against_dragon  \\\n",
       "0  ['Overgrow', 'Chlorophyll']          1.0           1.0             1.0   \n",
       "1  ['Overgrow', 'Chlorophyll']          1.0           1.0             1.0   \n",
       "2  ['Overgrow', 'Chlorophyll']          1.0           1.0             1.0   \n",
       "3     ['Blaze', 'Solar Power']          0.5           1.0             1.0   \n",
       "4     ['Blaze', 'Solar Power']          0.5           1.0             1.0   \n",
       "\n",
       "   against_electric  against_fairy  against_fight  against_fire  \\\n",
       "0               0.5            0.5            0.5           2.0   \n",
       "1               0.5            0.5            0.5           2.0   \n",
       "2               0.5            0.5            0.5           2.0   \n",
       "3               1.0            0.5            1.0           0.5   \n",
       "4               1.0            0.5            1.0           0.5   \n",
       "\n",
       "   against_flying  against_ghost  ...  percentage_male  pokedex_number  \\\n",
       "0             2.0            1.0  ...             88.1               1   \n",
       "1             2.0            1.0  ...             88.1               2   \n",
       "2             2.0            1.0  ...             88.1               3   \n",
       "3             1.0            1.0  ...             88.1               4   \n",
       "4             1.0            1.0  ...             88.1               5   \n",
       "\n",
       "   sp_attack  sp_defense  speed  type1   type2  weight_kg  generation  \\\n",
       "0         65          65     45  grass  poison        6.9           1   \n",
       "1         80          80     60  grass  poison       13.0           1   \n",
       "2        122         120     80  grass  poison      100.0           1   \n",
       "3         60          50     65   fire     NaN        8.5           1   \n",
       "4         80          65     80   fire     NaN       19.0           1   \n",
       "\n",
       "   is_legendary  \n",
       "0             0  \n",
       "1             0  \n",
       "2             0  \n",
       "3             0  \n",
       "4             0  \n",
       "\n",
       "[5 rows x 41 columns]"
      ]
     },
     "execution_count": 45,
     "metadata": {},
     "output_type": "execute_result"
    }
   ],
   "source": [
    "df.head()"
   ]
  },
  {
   "cell_type": "markdown",
   "id": "cd1ea727-e8dd-40ff-bde9-49daa2e6111b",
   "metadata": {
    "tags": []
   },
   "source": [
    "### The Darmanitan and Minior Case\n",
    "\n",
    "Upon inspection, the pokemon named Minior (row 773) has a catch rate (column 5) that is described as `\"30 (Meteorite)255 (Core)\"` so I decided to use the core catch rate 255 in order to be execute our substitution strategy for missing values correctly."
   ]
  },
  {
   "cell_type": "code",
   "execution_count": 46,
   "id": "c3d47a14-3f90-4131-8536-620e73862fc7",
   "metadata": {
    "tags": []
   },
   "outputs": [
    {
     "name": "stdout",
     "output_type": "stream",
     "text": [
      "30 (Meteorite)255 (Core)\n"
     ]
    }
   ],
   "source": [
    "print(df.loc[773, \"capture_rate\"])\n",
    "df.loc[773, \"capture_rate\"] = 255"
   ]
  },
  {
   "cell_type": "markdown",
   "id": "f132a345-3c47-4df5-ae51-70bf9755a3a1",
   "metadata": {},
   "source": [
    "Another surprise is the fact that the pokemon named Darmanitan (row 554) has a wrong double typing of `(\"fire\", \"fire\")`. So we'll want to reset this value of `\"type2\"`:"
   ]
  },
  {
   "cell_type": "code",
   "execution_count": 47,
   "id": "a4913767-7b6e-4e00-bb82-13a528d09e49",
   "metadata": {
    "tags": []
   },
   "outputs": [
    {
     "name": "stdout",
     "output_type": "stream",
     "text": [
      "('fire', 'fire')\n"
     ]
    }
   ],
   "source": [
    "print(f\"{df.loc[554, 'type1'], df.loc[554, 'type2']}\")\n",
    "df.loc[554, \"type2\"] = \"nan\""
   ]
  },
  {
   "cell_type": "markdown",
   "id": "f0c2962b-f561-455e-8556-d10df5bdd86c",
   "metadata": {},
   "source": [
    "## Renaming Columns\n",
    "\n",
    "The dataset has a few inconsistencies with its naming conventions, for instance, the `\"fighting\"` type has a corresponding `\"against_fight\"` instead of `\"against_fighting\"` as one would assume. Moreover, there is a typo in the classification feature, which is named `\"classfication\"`. We thus rename such columns:"
   ]
  },
  {
   "cell_type": "code",
   "execution_count": 48,
   "id": "ff4959c3-0f0e-4799-8c95-9df557e900a5",
   "metadata": {},
   "outputs": [],
   "source": [
    "df.rename(columns={\"against_fight\": \"against_fighting\", \"classfication\": \"classification\"}, inplace=True)"
   ]
  },
  {
   "cell_type": "markdown",
   "id": "80f891f0-74aa-4a16-8fe5-fbf02d3d42f1",
   "metadata": {},
   "source": [
    "## Filter Unknown Pokemon Features"
   ]
  },
  {
   "cell_type": "markdown",
   "id": "3ab3c2c3-fff8-4227-ba7e-19ea38b3de3e",
   "metadata": {},
   "source": [
    "The constant `SUPPORT_TYPES` should contain all Pokemon types we'll use in the classification of new Pokemon, that is, the types of our already acquired Pokemon. We'll assume (wrongly) that a Pokemon of a given type can only learn and use attacks of its corresponding type. Hence, we shall only consider the features `\"against_\" + type_` for `type in SUPPORT_TYPES` (we shall assume that only our Pokemon will deal damage and won't be damaged throughout the exploration, thus we can't use its typing weaknessess).\n",
    "\n",
    "We can also disregard several irrelevant features for the classification of Pokemons, for instance we'll disregard `[\"pokemon_number\", \"name\", \"japanese_name\"]`.\n",
    "In our current setting, we wish to do classification only on the column `\"type1\"`, so we should also ignore the `\"type2\"` feature. Since the Pokemons we'll encounter are new to us, we won't know both the `\"classification\"` and `\"abilities\"` features."
   ]
  },
  {
   "cell_type": "code",
   "execution_count": 49,
   "id": "ec314966-a066-41a6-9a74-0e4bd99d8e1b",
   "metadata": {},
   "outputs": [],
   "source": [
    "# Set containing the columns corresponding to the typing information of Pokemon.\n",
    "TYPE_COLS = { \"type1\", \"type2\" }"
   ]
  },
  {
   "cell_type": "markdown",
   "id": "5fb97df7-0ce9-4606-87c0-ac77944273e3",
   "metadata": {},
   "source": [
    "We list all columns that should be considered as targets in the classification problem.\n",
    " \n",
    "* **NOTE:** If you want to consider both columns, consider changing `TARGET` to `[\"type1\", \"type2\"]`. By default we'll consider only `\"type1\"`."
   ]
  },
  {
   "cell_type": "code",
   "execution_count": 50,
   "id": "76c2eeb1-c1ba-4dae-b3e8-9ceddc9eafab",
   "metadata": {},
   "outputs": [],
   "source": [
    "TARGETS = [\"type1\"]"
   ]
  },
  {
   "cell_type": "code",
   "execution_count": 51,
   "id": "0cbf7581-7a25-4a71-a74a-2d5b905d1ff9",
   "metadata": {
    "tags": []
   },
   "outputs": [],
   "source": [
    "# String that will be used to match via regex the columns that should be dropped.\n",
    "unknown_features = \"classfication|abilities|pokedex_number|japanese_name|name\"\n",
    "\n",
    "# Remove type columns that shouldn't be considered.\n",
    "for col in TYPE_COLS - set(TARGETS):\n",
    "    unknown_features += f\"|{col}\""
   ]
  },
  {
   "cell_type": "markdown",
   "id": "005d0f4b-11fd-41e6-9c87-ed51242491b0",
   "metadata": {},
   "source": [
    "Now we collect all available types in the columns corresponding to the targets to be classified. To do that, we create a set with all types from `\"type1\"` (which are guaranteed to exist since every Pokemon has to have a first type), and include in this set the types appearing in the column `\"type2\"` (note however that not every Pokemon is double typed, so we need to take care of excluding all missing values."
   ]
  },
  {
   "cell_type": "code",
   "execution_count": 52,
   "id": "aa84556f-0947-401e-ac95-28f595270cdd",
   "metadata": {},
   "outputs": [],
   "source": [
    "ALL_TYPES = set(df[\"type1\"]).union(\n",
    "    { type_ for type_ in set(df[\"type2\"]) if (pd.notna(type_) and type_ != \"nan\") }\n",
    ")"
   ]
  },
  {
   "cell_type": "markdown",
   "id": "40389b09-1bc8-4d27-adb0-c61d108aaf6e",
   "metadata": {},
   "source": [
    "Now we select the types of the pokemon in our party, which will be used when classifying new pokemon.\n",
    " \n",
    "* **NOTE:** If you want to consider more than just the `\"electric\"` type, simply add more types and you should be good to go."
   ]
  },
  {
   "cell_type": "code",
   "execution_count": 53,
   "id": "739a14fd-99e8-42ff-898e-a5ba3a4153dd",
   "metadata": {},
   "outputs": [],
   "source": [
    "SUPPORT_TYPES = { \"electric\" }"
   ]
  },
  {
   "cell_type": "markdown",
   "id": "1f394663-4141-4f55-933a-013a256b9564",
   "metadata": {},
   "source": [
    "Add to our regex filter all of the columns associated with types not supported by our party:"
   ]
  },
  {
   "cell_type": "code",
   "execution_count": 54,
   "id": "57a35e63-5569-4d1e-9d3f-1c377c3ae506",
   "metadata": {},
   "outputs": [],
   "source": [
    "# All features `\"against_*\"` where the type isn't listed in `SUPPORT_TYPES` should be removed.\n",
    "# since we can't possibly use attacks of these types when encountering new pokemon.\n",
    "for type_ in ALL_TYPES - SUPPORT_TYPES:\n",
    "    unknown_features += f\"|against_{type_}\""
   ]
  },
  {
   "cell_type": "markdown",
   "id": "4a3293a7-b3ab-4bc0-a7a5-869d69601306",
   "metadata": {},
   "source": [
    "Finally, remove all unknown features from the dataset:"
   ]
  },
  {
   "cell_type": "code",
   "execution_count": 55,
   "id": "7dd8b3e0-98f2-479d-b184-72c8b777e965",
   "metadata": {},
   "outputs": [],
   "source": [
    "# Remove all unknown features from the dataset.\n",
    "df = df.drop(df.filter(regex=f\"{unknown_features}\", axis=1), axis=1)"
   ]
  },
  {
   "cell_type": "markdown",
   "id": "8abf2410-db15-475f-b295-da8cab446bad",
   "metadata": {},
   "source": [
    "Lets check if everything looks right:"
   ]
  },
  {
   "cell_type": "code",
   "execution_count": 56,
   "id": "0ae7c130-663b-4580-bd63-cc3f30478b22",
   "metadata": {
    "tags": []
   },
   "outputs": [
    {
     "data": {
      "text/plain": [
       "Index(['against_electric', 'attack', 'base_egg_steps', 'base_happiness',\n",
       "       'base_total', 'capture_rate', 'classification', 'defense',\n",
       "       'experience_growth', 'height_m', 'hp', 'percentage_male', 'sp_attack',\n",
       "       'sp_defense', 'speed', 'type1', 'weight_kg', 'generation',\n",
       "       'is_legendary'],\n",
       "      dtype='object')"
      ]
     },
     "execution_count": 56,
     "metadata": {},
     "output_type": "execute_result"
    }
   ],
   "source": [
    "df.columns"
   ]
  },
  {
   "cell_type": "markdown",
   "id": "ed60bd34-8ee0-4dc1-a2fb-912ca6558f35",
   "metadata": {
    "tags": []
   },
   "source": [
    "## Choice of Features and Target Label\n",
    "\n",
    "Below we choose the features that models should consider when predicting the target labelling function. Based on domain knowledge, we find that most features should not be affected by the Pokemon typing, however its type may affect its physical features like the height and weight. It is clear that the most important feature should be the columns of the kind `\"against_{type}\"` where the types are all those that are contained in `SUPPORT_TYPES`. Since some Pokemons do not have male/female variants, we won't consider this feature since it would greatly decrease our (already little) dataset."
   ]
  },
  {
   "cell_type": "code",
   "execution_count": 57,
   "id": "1ee2f50d-db88-4404-bb37-da2926787c18",
   "metadata": {
    "tags": []
   },
   "outputs": [],
   "source": [
    "FEATURES = [\"height_m\", \"weight_kg\"] \n",
    "FEATURES.extend([f\"against_{type_}\" for type_ in SUPPORT_TYPES])"
   ]
  },
  {
   "cell_type": "markdown",
   "id": "b3b0b7a6-777b-436d-a6e6-ea5e1f97fc68",
   "metadata": {},
   "source": [
    "Lets check if the features are correctly set:"
   ]
  },
  {
   "cell_type": "code",
   "execution_count": 58,
   "id": "b50e5cda-0a20-43e7-b193-14d2312bc4ff",
   "metadata": {
    "tags": []
   },
   "outputs": [
    {
     "data": {
      "text/plain": [
       "['height_m', 'weight_kg', 'against_electric']"
      ]
     },
     "execution_count": 58,
     "metadata": {},
     "output_type": "execute_result"
    }
   ],
   "source": [
    "FEATURES"
   ]
  },
  {
   "cell_type": "markdown",
   "id": "dfeb21bb-6e19-43f2-a467-2ca7349642f5",
   "metadata": {
    "tags": []
   },
   "source": [
    "## Filtering Pokemon Types\n",
    "\n",
    "Now we set all types of Pokemon that will be considered under the exploration. If the type is not contained in `RESTRICTION`, all Pokemon having this corresponding types will be removed.\n",
    " \n",
    "* **NOTE:** If you wish to consider more than the default types `\"water\"` and `\"normal\"`, you can simply add other types to `RESTRICTION` and the program should deal with that."
   ]
  },
  {
   "cell_type": "code",
   "execution_count": 59,
   "id": "9b5c5a83-222b-4c08-aedf-9f4db00265bd",
   "metadata": {
    "tags": []
   },
   "outputs": [],
   "source": [
    "RESTRICTION = {\"water\", \"normal\"}"
   ]
  },
  {
   "cell_type": "markdown",
   "id": "01fb440b-5586-4fdb-92f5-feadb71eb69c",
   "metadata": {},
   "source": [
    "Remove all of the remaining Pokemons with typings that won't be considered."
   ]
  },
  {
   "cell_type": "code",
   "execution_count": 60,
   "id": "2d90c617-f791-4613-a0c3-4c44dec2586d",
   "metadata": {
    "tags": []
   },
   "outputs": [],
   "source": [
    "for col in TARGETS:\n",
    "    df = df[~df[col].isin(ALL_TYPES - RESTRICTION)]"
   ]
  },
  {
   "cell_type": "markdown",
   "id": "ecf90cd4-d48d-45c5-8a19-05282decd292",
   "metadata": {
    "tags": []
   },
   "source": [
    "## Separating Data and Labels\n",
    "\n",
    "As is standard in the literature, we'll store our features in an array named `X` and our target labels in `y`."
   ]
  },
  {
   "cell_type": "code",
   "execution_count": 61,
   "id": "8fdb73df-bca3-4863-9d6d-445a561aff89",
   "metadata": {
    "tags": []
   },
   "outputs": [],
   "source": [
    "X = df[FEATURES].to_numpy()\n",
    "y = df[TARGETS].to_numpy().squeeze()"
   ]
  },
  {
   "cell_type": "markdown",
   "id": "b4bf3844-8f5f-4029-902d-9514b13e80b4",
   "metadata": {},
   "source": [
    "If both `\"type1\"` and `\"type2\"` are being considered as targets, we'll want to reduce the dimension of `y`. This means that the whole pair of types will be considered when labelling a new pokemon: for instance, Torkoal (which is only of fire type) has a different typing when compared to Charizard (which is both fire and flying type)."
   ]
  },
  {
   "cell_type": "code",
   "execution_count": 62,
   "id": "83e3490d-2a63-40a8-bf03-c15e53e3dd7a",
   "metadata": {},
   "outputs": [],
   "source": [
    "if y.ndim > 1:\n",
    "    y = np.array([f\"{row[0]}, {row[1]}\" for row in y])"
   ]
  },
  {
   "cell_type": "markdown",
   "id": "9dfaa4f7-ed2d-475e-94a4-0e3f6b1499ae",
   "metadata": {
    "tags": []
   },
   "source": [
    "## Missing Data\n",
    "\n",
    "Lets check which features contain missing values and replace those with the mean of the feature across all pokemons."
   ]
  },
  {
   "cell_type": "code",
   "execution_count": 63,
   "id": "59180aa3-5d73-49a3-8167-cd2386ec0565",
   "metadata": {},
   "outputs": [],
   "source": [
    "imp = SimpleImputer(missing_values=np.nan, strategy=\"mean\")\n",
    "X = imp.fit_transform(X)"
   ]
  },
  {
   "cell_type": "markdown",
   "id": "1257ea5f-75b0-4905-93f9-e6f73d567989",
   "metadata": {
    "tags": []
   },
   "source": [
    "## Label Encoding\n",
    "\n",
    "Lets encode each label (pokemon type) with a uniquely representing integer. We'll also store the encoding mapping in a dictionary called `encoder_mapping`."
   ]
  },
  {
   "cell_type": "code",
   "execution_count": 64,
   "id": "6dca5951-9a7a-4b77-959c-a50a62f7e83a",
   "metadata": {
    "tags": []
   },
   "outputs": [],
   "source": [
    "encoder = LabelEncoder().fit(y)\n",
    "y = encoder.transform(y)\n",
    "encoder_mapping = {type_: enc for enc, type_ in enumerate(encoder.classes_)}"
   ]
  },
  {
   "cell_type": "markdown",
   "id": "b8147921-8dbc-497d-a95c-a7bd157360f4",
   "metadata": {},
   "source": [
    "### Removing Pokemons with Outlier Typings\n",
    "\n",
    "In order for a type to be statistically relevant, it needs to have at least a minimum number of samples in the dataset `MIN_TYPE_SAMPLES`. Hence we delete all instances of types that have less than `MIN_TYPE_SAMPLE` from `X`, `y`, and also from `encoder_mapping.`"
   ]
  },
  {
   "cell_type": "code",
   "execution_count": 65,
   "id": "ea1fbfc3-37c6-4dc2-a4ba-c191aeb4cbf6",
   "metadata": {
    "tags": []
   },
   "outputs": [],
   "source": [
    "# Minimum number of samples that a type should have.\n",
    "MIN_TYPE_SAMPLE = 4\n",
    "\n",
    "map_count = Counter(y)\n",
    "for type_ in list(encoder_mapping):\n",
    "    if map_count[encoded_type := encoder_mapping[type_]] < MIN_TYPE_SAMPLE:\n",
    "        mask = y != encoded_type\n",
    "        X = X[mask]\n",
    "        y = y[mask]\n",
    "        del encoder_mapping[type_]"
   ]
  },
  {
   "cell_type": "markdown",
   "id": "c8da12a2-0a81-4a34-8b79-6d39103b80b9",
   "metadata": {},
   "source": [
    "Lets check the remaining Pokemon types and their corresponding integer encoding:"
   ]
  },
  {
   "cell_type": "code",
   "execution_count": 66,
   "id": "05c9a067-bd10-427c-a692-8e3217ea5027",
   "metadata": {
    "tags": []
   },
   "outputs": [
    {
     "data": {
      "text/plain": [
       "{'normal': 0, 'water': 1}"
      ]
     },
     "execution_count": 66,
     "metadata": {},
     "output_type": "execute_result"
    }
   ],
   "source": [
    "encoder_mapping"
   ]
  },
  {
   "cell_type": "markdown",
   "id": "b4021424-ed46-402e-8c4a-d58428dba689",
   "metadata": {
    "tags": []
   },
   "source": [
    "## Feature Scaling\n",
    "\n",
    "Notice that features have a huge scaling issue. For instance, we can have `\"against_electric\"` with a value of `0.5` while an `\"experience_growth\"` of `1059860`. To avoid feature domination problems, we'll scale every column accordingly. "
   ]
  },
  {
   "cell_type": "code",
   "execution_count": 67,
   "id": "e7b2e2e9-8117-4c12-bde3-3f16ffd2ca1e",
   "metadata": {
    "tags": []
   },
   "outputs": [],
   "source": [
    "scaler = StandardScaler()\n",
    "X = scaler.fit_transform(X)"
   ]
  },
  {
   "cell_type": "markdown",
   "id": "c0bedf34-395b-4fa3-9495-6f2d5f481af9",
   "metadata": {
    "tags": []
   },
   "source": [
    "# Cross Validation and Hyperparameter Tuning"
   ]
  },
  {
   "cell_type": "markdown",
   "id": "3ec5b24f-e26e-46c6-8d31-0a7137edca1a",
   "metadata": {
    "tags": []
   },
   "source": [
    "## Constants"
   ]
  },
  {
   "cell_type": "code",
   "execution_count": 68,
   "id": "93acb758-238f-4790-b7ce-88ed4757ff89",
   "metadata": {},
   "outputs": [],
   "source": [
    "# Percentage of the whole dataset to be used as test.\n",
    "TEST_SIZE = 0.1\n",
    "\n",
    "# Percentage of the search data to be used as validation in the cross-validation process.\n",
    "VALIDATION_SIZE = 0.1\n",
    "\n",
    "# Number of splits for the cross-validation.\n",
    "N_SPLITS = 5\n",
    "\n",
    "# Number of iterations of the randomized searcher with cross-validation.\n",
    "N_ITER = 10\n",
    "\n",
    "# Verboseness of the search (the higher, we have more info about the searching process).\n",
    "VERBOSE_LEVEL = 1\n",
    "\n",
    "# Cross-validation method to be used in conjunction with the hyperparameter tuning.\n",
    "CV_STRATEGY = StratifiedShuffleSplit "
   ]
  },
  {
   "cell_type": "markdown",
   "id": "fd0350d8-5f8b-4f0f-ae5c-42299f6af5ab",
   "metadata": {
    "tags": []
   },
   "source": [
    "## Separating Search, and Test Data\n",
    "\n",
    "First we'll split our data (preserving label proportion, that is, the splitting is stratified) into a test set `(X_test, y_test)` (with a proportion of `TEST_SIZE` of the original dataset) and a search set `(X_search, y_search)` to be used in the hyperparameter tuning and cross-validation stage (at which point we'll further split our data into a validation set and a training set, now using `VALIDATION_SIZE`)."
   ]
  },
  {
   "cell_type": "code",
   "execution_count": 69,
   "id": "31fd1e8f-a796-4c8d-b4c3-6d7bc3c14e9e",
   "metadata": {},
   "outputs": [],
   "source": [
    "X_search, X_test, y_search, y_test = train_test_split(\n",
    "    X, y, shuffle=True, stratify=y, test_size=TEST_SIZE, random_state=RANDOM_STATE\n",
    ")"
   ]
  },
  {
   "cell_type": "markdown",
   "id": "4b05459f-51ad-4560-928f-934419cb9fe4",
   "metadata": {},
   "source": [
    "## Randomized Search with Cross Validation"
   ]
  },
  {
   "cell_type": "markdown",
   "id": "026d15ee-f969-4278-baed-1241b1f02bdd",
   "metadata": {},
   "source": [
    "In order to tune our hyperparameters, we'll take the approach of `RandomizedSearchCV` which runs `n_iter` iterations of a random process of sampling constants from the provided parameter distributions (`param_distributions`). This searching method is coupled with a cross-validation using as default the `StratifiedShuffleSplit` which shuffles the dataset (needed since pokemon evolutions tend to have persistent typings and are put right after the other in the dataset) and creates `n_splits` of this data in a stratified fashion (that is, the distribution of typings should be consistent throughout the splits).\n",
    "\n",
    "To summarize all informations I wrote a function `random_searcher` which does the randomized search with cross-validation described above, tests the model against the test dataset `(X_test, y_test)`, computes the confusion matrices associated with the test (and plots a visualization of the matrices), and finally returns all relevant information in the form of a dictionary."
   ]
  },
  {
   "cell_type": "code",
   "execution_count": 70,
   "id": "5460cbb2-83bd-44a8-986c-f70a91545f0d",
   "metadata": {},
   "outputs": [],
   "source": [
    "def random_searcher(\n",
    "    estimator,\n",
    "    param_distributions,\n",
    "    X_search,\n",
    "    y_search,\n",
    "    X_test,\n",
    "    y_test,\n",
    "    n_iter=N_ITER,\n",
    "    n_splits=N_SPLITS\n",
    "):\n",
    "    rs = RandomizedSearchCV(\n",
    "        estimator=estimator(),\n",
    "        param_distributions=param_distributions,\n",
    "        n_iter=n_iter,\n",
    "        cv=CV_STRATEGY(n_splits=n_splits, test_size=VALIDATION_SIZE, random_state=RANDOM_STATE),\n",
    "        verbose=VERBOSE_LEVEL,\n",
    "    ).fit(X_search, y_search, groups=y_search)\n",
    "    \n",
    "    predictions = rs.best_estimator_.predict(X_test)\n",
    "    predictions_train = rs.best_estimator_.predict(X_search)\n",
    "    \n",
    "    # This will automatically plot the confusion matrices when the function returns.\n",
    "    fig, axs = plt.subplots(1, 2, layout=\"constrained\")\n",
    "    cmap = plt.cm.BuPu\n",
    "    labels = list(encoder_mapping)\n",
    "    cm = ConfusionMatrixDisplay.from_predictions(\n",
    "        y_test,\n",
    "        predictions,\n",
    "        cmap=cmap,\n",
    "        display_labels=labels,\n",
    "        xticks_rotation=\"vertical\",\n",
    "        ax=axs[0],\n",
    "        colorbar=False,\n",
    "    )\n",
    "    axs[0].set_title(\"Confusion matrix\")\n",
    "    ncm = ConfusionMatrixDisplay.from_predictions(\n",
    "        y_test,\n",
    "        predictions,\n",
    "        cmap=cmap,\n",
    "        normalize=\"true\",\n",
    "        display_labels=labels,\n",
    "        xticks_rotation=\"vertical\",\n",
    "        ax=axs[-1],\n",
    "        colorbar=False,\n",
    "    )\n",
    "    axs[-1].set_title(\"Normalized confusion matrix\")\n",
    "    fig.suptitle(f\"{estimator.__name__} model\", y=0.85)\n",
    "    \n",
    "    return {\n",
    "        \"model\": estimator.__name__,\n",
    "        \"dataset\": {\n",
    "            \"dataset size\": len(X),\n",
    "            \"number of features\": X_search.shape[1] if len(X_search.shape) == 2 else 1,\n",
    "            \"target type\": type_of_target(y),\n",
    "        },\n",
    "        \"hyperparameter tuning and cross-validation\": {\n",
    "            \"parameter seach strategy\": \"RandomizedSearchCV\",\n",
    "            \"number of search iterations\": n_iter,\n",
    "            \"search size\": len(X_search),\n",
    "            \"random state\": RANDOM_STATE,\n",
    "            \"cross validation strategy\": CV_STRATEGY.__name__,\n",
    "            \"number of cross validation splits\": n_iter,\n",
    "            \"best estimator parameters\": rs.best_estimator_.get_params(),\n",
    "            \"mean accuracy in CV\": rs.best_score_,\n",
    "        },\n",
    "        \"test\": {\n",
    "            \"test size\": len(X_test),\n",
    "            \"accuracy\": accuracy_score(y_test, predictions),\n",
    "            \"confusion matrix\": cm.confusion_matrix,\n",
    "            \"normalized confusion matrix\": ncm.confusion_matrix,\n",
    "        },\n",
    "        \"predictions on the training set\": {\n",
    "            \"training size\": len(X_search),\n",
    "            \"accuracy\": accuracy_score(y_search, predictions_train),\n",
    "        }\n",
    "    }"
   ]
  },
  {
   "cell_type": "markdown",
   "id": "062c083e-8d63-4730-ab06-8fd6c78ab5fd",
   "metadata": {},
   "source": [
    "We'll also define a function to pretty-print the results informed by the function `random_searcher`:"
   ]
  },
  {
   "cell_type": "code",
   "execution_count": 71,
   "id": "257d809c-b692-4e6f-8671-ab3a638a52eb",
   "metadata": {},
   "outputs": [],
   "source": [
    "def print_searcher_info(searcher_results):\n",
    "    np.set_printoptions(precision=2)\n",
    "    model_name = searcher_results[\"model\"]\n",
    "    print(f\"{f' {model_name} ':=^80}\")\n",
    "    \n",
    "    for key in list(searcher_results)[1:]:\n",
    "        print(f\"\\n\\n{f' {key} ':-^80}\")\n",
    "        pprint.pprint(searcher_results[key], sort_dicts=False)"
   ]
  },
  {
   "cell_type": "markdown",
   "id": "02b3d720-9d2c-4e71-8dc7-256d8c577ff6",
   "metadata": {
    "tags": []
   },
   "source": [
    "# Model Evaluation"
   ]
  },
  {
   "cell_type": "markdown",
   "id": "97fab5d9-ef0b-4c4c-80a3-386b7001d209",
   "metadata": {},
   "source": [
    "## Logistic Regression"
   ]
  },
  {
   "cell_type": "code",
   "execution_count": 72,
   "id": "a83ac558-8cf5-4df7-b3d7-8690d2c4ea74",
   "metadata": {
    "tags": []
   },
   "outputs": [
    {
     "name": "stdout",
     "output_type": "stream",
     "text": [
      "Fitting 5 folds for each of 10 candidates, totalling 50 fits\n"
     ]
    },
    {
     "data": {
      "image/png": "[encoded data removed]",
      "text/plain": [
       "<Figure size 640x480 with 2 Axes>"
      ]
     },
     "metadata": {},
     "output_type": "display_data"
    }
   ],
   "source": [
    "param_distributions = {\n",
    "    \"C\": np.absolute(np.random.normal(loc=1.0, scale=1.0, size=100)),\n",
    "}\n",
    "logistic_regression = random_searcher(\n",
    "    LogisticRegression,\n",
    "    param_distributions,\n",
    "    X_search,\n",
    "    y_search,\n",
    "    X_test,\n",
    "    y_test\n",
    ")"
   ]
  },
  {
   "cell_type": "code",
   "execution_count": 73,
   "id": "490e418e-7a57-4acc-8670-8d5d8df9abb6",
   "metadata": {
    "tags": []
   },
   "outputs": [
    {
     "name": "stdout",
     "output_type": "stream",
     "text": [
      "============================== LogisticRegression ==============================\n",
      "\n",
      "\n",
      "----------------------------------- dataset ------------------------------------\n",
      "{'dataset size': 219, 'number of features': 3, 'target type': 'binary'}\n",
      "\n",
      "\n",
      "------------------ hyperparameter tuning and cross-validation ------------------\n",
      "{'parameter seach strategy': 'RandomizedSearchCV',\n",
      " 'number of search iterations': 10,\n",
      " 'search size': 197,\n",
      " 'random state': 529,\n",
      " 'cross validation strategy': 'StratifiedShuffleSplit',\n",
      " 'number of cross validation splits': 10,\n",
      " 'best estimator parameters': {'C': 0.7429901968980709,\n",
      "                               'class_weight': None,\n",
      "                               'dual': False,\n",
      "                               'fit_intercept': True,\n",
      "                               'intercept_scaling': 1,\n",
      "                               'l1_ratio': None,\n",
      "                               'max_iter': 100,\n",
      "                               'multi_class': 'auto',\n",
      "                               'n_jobs': None,\n",
      "                               'penalty': 'l2',\n",
      "                               'random_state': None,\n",
      "                               'solver': 'lbfgs',\n",
      "                               'tol': 0.0001,\n",
      "                               'verbose': 0,\n",
      "                               'warm_start': False},\n",
      " 'mean accuracy in CV': 0.8200000000000001}\n",
      "\n",
      "\n",
      "------------------------------------- test -------------------------------------\n",
      "{'test size': 22,\n",
      " 'accuracy': 0.8636363636363636,\n",
      " 'confusion matrix': array([[ 8,  3],\n",
      "       [ 0, 11]]),\n",
      " 'normalized confusion matrix': array([[0.73, 0.27],\n",
      "       [0.  , 1.  ]])}\n",
      "\n",
      "\n",
      "----------------------- predictions on the training set ------------------------\n",
      "{'training size': 197, 'accuracy': 0.7969543147208121}\n"
     ]
    }
   ],
   "source": [
    "print_searcher_info(logistic_regression)"
   ]
  },
  {
   "cell_type": "markdown",
   "id": "9502a2ea-c8fd-4c9f-8482-94b278dcd0ac",
   "metadata": {},
   "source": [
    "## Support Vector Machines"
   ]
  },
  {
   "cell_type": "code",
   "execution_count": 74,
   "id": "f0f283a9-035b-4a67-8ea4-3935b0a5252e",
   "metadata": {
    "tags": []
   },
   "outputs": [
    {
     "name": "stdout",
     "output_type": "stream",
     "text": [
      "Fitting 5 folds for each of 10 candidates, totalling 50 fits\n"
     ]
    },
    {
     "data": {
      "image/png": "[encoded data removed]",
      "text/plain": [
       "<Figure size 640x480 with 2 Axes>"
      ]
     },
     "metadata": {},
     "output_type": "display_data"
    }
   ],
   "source": [
    "param_distributions = {\n",
    "    \"C\": np.absolute(np.random.normal(loc=1.0, scale=1.0, size=10)),\n",
    "    \"gamma\": [\"scale\", \"auto\"] + np.absolute(np.random.normal(size=5)).tolist(),\n",
    "    \"kernel\": [\"linear\", \"poly\", \"rbf\", \"sigmoid\"],\n",
    "    \"degree\": np.arange(1, 6),\n",
    "    \"random_state\": [RANDOM_STATE],\n",
    "}\n",
    "support_vector_machine = random_searcher(\n",
    "    SVC,\n",
    "    param_distributions,\n",
    "    X_search,\n",
    "    y_search,\n",
    "    X_test,\n",
    "    y_test\n",
    ")"
   ]
  },
  {
   "cell_type": "code",
   "execution_count": 75,
   "id": "3f4b4ed6-8717-4574-a6ea-d8dc2dbc4672",
   "metadata": {},
   "outputs": [
    {
     "name": "stdout",
     "output_type": "stream",
     "text": [
      "===================================== SVC ======================================\n",
      "\n",
      "\n",
      "----------------------------------- dataset ------------------------------------\n",
      "{'dataset size': 219, 'number of features': 3, 'target type': 'binary'}\n",
      "\n",
      "\n",
      "------------------ hyperparameter tuning and cross-validation ------------------\n",
      "{'parameter seach strategy': 'RandomizedSearchCV',\n",
      " 'number of search iterations': 10,\n",
      " 'search size': 197,\n",
      " 'random state': 529,\n",
      " 'cross validation strategy': 'StratifiedShuffleSplit',\n",
      " 'number of cross validation splits': 10,\n",
      " 'best estimator parameters': {'C': 1.3731313892884272,\n",
      "                               'break_ties': False,\n",
      "                               'cache_size': 200,\n",
      "                               'class_weight': None,\n",
      "                               'coef0': 0.0,\n",
      "                               'decision_function_shape': 'ovr',\n",
      "                               'degree': 3,\n",
      "                               'gamma': 0.4813674178527704,\n",
      "                               'kernel': 'rbf',\n",
      "                               'max_iter': -1,\n",
      "                               'probability': False,\n",
      "                               'random_state': 529,\n",
      "                               'shrinking': True,\n",
      "                               'tol': 0.001,\n",
      "                               'verbose': False},\n",
      " 'mean accuracy in CV': 0.8800000000000001}\n",
      "\n",
      "\n",
      "------------------------------------- test -------------------------------------\n",
      "{'test size': 22,\n",
      " 'accuracy': 0.8636363636363636,\n",
      " 'confusion matrix': array([[ 8,  3],\n",
      "       [ 0, 11]]),\n",
      " 'normalized confusion matrix': array([[0.73, 0.27],\n",
      "       [0.  , 1.  ]])}\n",
      "\n",
      "\n",
      "----------------------- predictions on the training set ------------------------\n",
      "{'training size': 197, 'accuracy': 0.8426395939086294}\n"
     ]
    }
   ],
   "source": [
    "print_searcher_info(support_vector_machine)"
   ]
  },
  {
   "cell_type": "markdown",
   "id": "8f3228a4-da06-4b92-8157-c722cbd98234",
   "metadata": {},
   "source": [
    "## Decision Tree"
   ]
  },
  {
   "cell_type": "code",
   "execution_count": 76,
   "id": "0d4d16bc-8973-40f5-aae0-16a51d3b0415",
   "metadata": {
    "tags": []
   },
   "outputs": [
    {
     "name": "stdout",
     "output_type": "stream",
     "text": [
      "Fitting 5 folds for each of 10 candidates, totalling 50 fits\n"
     ]
    },
    {
     "data": {
      "image/png": "[encoded data removed]",
      "text/plain": [
       "<Figure size 640x480 with 2 Axes>"
      ]
     },
     "metadata": {},
     "output_type": "display_data"
    }
   ],
   "source": [
    "param_distributions = {\n",
    "    \"criterion\": [\"gini\", \"entropy\", \"log_loss\"],\n",
    "    \"max_depth\": np.arange(1, 20),\n",
    "    \"max_leaf_nodes\": np.arange(20, 70),\n",
    "    \"min_samples_leaf\": np.arange(1, 4),\n",
    "    \"random_state\": [RANDOM_STATE],\n",
    "}\n",
    "decision_tree = random_searcher(\n",
    "    DecisionTreeClassifier,\n",
    "    param_distributions,\n",
    "    X_search,\n",
    "    y_search,\n",
    "    X_test,\n",
    "    y_test\n",
    ")"
   ]
  },
  {
   "cell_type": "code",
   "execution_count": 77,
   "id": "3f66d88e-c41f-4f3b-807c-62c4d0eb079e",
   "metadata": {
    "tags": []
   },
   "outputs": [
    {
     "name": "stdout",
     "output_type": "stream",
     "text": [
      "============================ DecisionTreeClassifier ============================\n",
      "\n",
      "\n",
      "----------------------------------- dataset ------------------------------------\n",
      "{'dataset size': 219, 'number of features': 3, 'target type': 'binary'}\n",
      "\n",
      "\n",
      "------------------ hyperparameter tuning and cross-validation ------------------\n",
      "{'parameter seach strategy': 'RandomizedSearchCV',\n",
      " 'number of search iterations': 10,\n",
      " 'search size': 197,\n",
      " 'random state': 529,\n",
      " 'cross validation strategy': 'StratifiedShuffleSplit',\n",
      " 'number of cross validation splits': 10,\n",
      " 'best estimator parameters': {'ccp_alpha': 0.0,\n",
      "                               'class_weight': None,\n",
      "                               'criterion': 'gini',\n",
      "                               'max_depth': 5,\n",
      "                               'max_features': None,\n",
      "                               'max_leaf_nodes': 28,\n",
      "                               'min_impurity_decrease': 0.0,\n",
      "                               'min_samples_leaf': 3,\n",
      "                               'min_samples_split': 2,\n",
      "                               'min_weight_fraction_leaf': 0.0,\n",
      "                               'random_state': 529,\n",
      "                               'splitter': 'best'},\n",
      " 'mean accuracy in CV': 0.8799999999999999}\n",
      "\n",
      "\n",
      "------------------------------------- test -------------------------------------\n",
      "{'test size': 22,\n",
      " 'accuracy': 0.9545454545454546,\n",
      " 'confusion matrix': array([[10,  1],\n",
      "       [ 0, 11]]),\n",
      " 'normalized confusion matrix': array([[0.91, 0.09],\n",
      "       [0.  , 1.  ]])}\n",
      "\n",
      "\n",
      "----------------------- predictions on the training set ------------------------\n",
      "{'training size': 197, 'accuracy': 0.8781725888324873}\n"
     ]
    }
   ],
   "source": [
    "print_searcher_info(decision_tree)"
   ]
  },
  {
   "cell_type": "markdown",
   "id": "ac685ab8-c4d6-455f-8826-0b6d6fc0922c",
   "metadata": {},
   "source": [
    "## Random Forest"
   ]
  },
  {
   "cell_type": "code",
   "execution_count": 78,
   "id": "730fd2cb-d2b8-48e9-8cd8-70017a6b2949",
   "metadata": {
    "tags": []
   },
   "outputs": [
    {
     "name": "stdout",
     "output_type": "stream",
     "text": [
      "Fitting 5 folds for each of 5 candidates, totalling 25 fits\n"
     ]
    },
    {
     "data": {
      "image/png": "[encoded data removed]",
      "text/plain": [
       "<Figure size 640x480 with 2 Axes>"
      ]
     },
     "metadata": {},
     "output_type": "display_data"
    }
   ],
   "source": [
    "param_distributions = {\n",
    "    \"n_estimators\": np.arange(100, 1500, 100),\n",
    "    \"criterion\": [\"gini\", \"entropy\", \"log_loss\"],\n",
    "    \"max_depth\": np.arange(1, 20),\n",
    "    \"min_samples_leaf\": np.arange(1, 4),\n",
    "    \"random_state\": [RANDOM_STATE],\n",
    "    \"n_jobs\": [-1], # Use all cores\n",
    "}\n",
    "random_forest = random_searcher(\n",
    "    RandomForestClassifier,\n",
    "    param_distributions,\n",
    "    X_search,\n",
    "    y_search,\n",
    "    X_test,\n",
    "    y_test,\n",
    "    n_iter=5\n",
    ")"
   ]
  },
  {
   "cell_type": "code",
   "execution_count": 79,
   "id": "731ec65b-5193-44f9-9189-1830ed28a56d",
   "metadata": {
    "tags": []
   },
   "outputs": [
    {
     "name": "stdout",
     "output_type": "stream",
     "text": [
      "============================ RandomForestClassifier ============================\n",
      "\n",
      "\n",
      "----------------------------------- dataset ------------------------------------\n",
      "{'dataset size': 219, 'number of features': 3, 'target type': 'binary'}\n",
      "\n",
      "\n",
      "------------------ hyperparameter tuning and cross-validation ------------------\n",
      "{'parameter seach strategy': 'RandomizedSearchCV',\n",
      " 'number of search iterations': 5,\n",
      " 'search size': 197,\n",
      " 'random state': 529,\n",
      " 'cross validation strategy': 'StratifiedShuffleSplit',\n",
      " 'number of cross validation splits': 5,\n",
      " 'best estimator parameters': {'bootstrap': True,\n",
      "                               'ccp_alpha': 0.0,\n",
      "                               'class_weight': None,\n",
      "                               'criterion': 'log_loss',\n",
      "                               'max_depth': 6,\n",
      "                               'max_features': 'sqrt',\n",
      "                               'max_leaf_nodes': None,\n",
      "                               'max_samples': None,\n",
      "                               'min_impurity_decrease': 0.0,\n",
      "                               'min_samples_leaf': 1,\n",
      "                               'min_samples_split': 2,\n",
      "                               'min_weight_fraction_leaf': 0.0,\n",
      "                               'n_estimators': 700,\n",
      "                               'n_jobs': -1,\n",
      "                               'oob_score': False,\n",
      "                               'random_state': 529,\n",
      "                               'verbose': 0,\n",
      "                               'warm_start': False},\n",
      " 'mean accuracy in CV': 0.8699999999999999}\n",
      "\n",
      "\n",
      "------------------------------------- test -------------------------------------\n",
      "{'test size': 22,\n",
      " 'accuracy': 0.9090909090909091,\n",
      " 'confusion matrix': array([[ 9,  2],\n",
      "       [ 0, 11]]),\n",
      " 'normalized confusion matrix': array([[0.82, 0.18],\n",
      "       [0.  , 1.  ]])}\n",
      "\n",
      "\n",
      "----------------------- predictions on the training set ------------------------\n",
      "{'training size': 197, 'accuracy': 0.883248730964467}\n"
     ]
    }
   ],
   "source": [
    "print_searcher_info(random_forest)"
   ]
  },
  {
   "cell_type": "markdown",
   "id": "7d37de11-ba7f-4b87-8f60-1ff61c1c3674",
   "metadata": {},
   "source": [
    "# Conclusion\n",
    "\n",
    "Lets summarize all of the accuracy scores:"
   ]
  },
  {
   "cell_type": "code",
   "execution_count": 80,
   "id": "12a09d06-8d28-4d14-8aad-4deade6adfc1",
   "metadata": {
    "tags": []
   },
   "outputs": [
    {
     "name": "stdout",
     "output_type": "stream",
     "text": [
      "LogisticRegression accuracy: 0.864\n",
      "SVC accuracy: 0.864\n",
      "DecisionTreeClassifier accuracy: 0.955\n",
      "RandomForestClassifier accuracy: 0.909\n"
     ]
    }
   ],
   "source": [
    "models = [logistic_regression, support_vector_machine, decision_tree, random_forest]\n",
    "\n",
    "for model in models:\n",
    "    print(f\"{model['model']} accuracy: {model['test']['accuracy']:.3f}\")"
   ]
  },
  {
   "cell_type": "markdown",
   "id": "0364c304-9272-4d5e-85fa-7ef698adeaa7",
   "metadata": {},
   "source": [
    "The results above are favorable for the tree based models (decision tree and random forest), with scores ranging from around 90% to 95%. However, logistic regression and support vector machine models do not sit at bad position too, with scores around 86% or below. Since the decision tree model is way faster than the random forest and both have the same accuracy, the prefered model for this classification task is the decision tree."
   ]
  }
 ],
 "metadata": {
  "kernelspec": {
   "display_name": "notebooks",
   "language": "python",
   "name": "notebooks"
  },
  "language_info": {
   "codemirror_mode": {
    "name": "ipython",
    "version": 3
   },
   "file_extension": ".py",
   "mimetype": "text/x-python",
   "name": "python",
   "nbconvert_exporter": "python",
   "pygments_lexer": "ipython3",
   "version": "3.11.5"
  },
  "toc-autonumbering": true,
  "toc-showcode": false,
  "toc-showmarkdowntxt": false
 },
 "nbformat": 4,
 "nbformat_minor": 5
}

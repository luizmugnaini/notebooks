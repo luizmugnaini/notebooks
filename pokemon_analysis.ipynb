{
 "cells": [
  {
   "cell_type": "markdown",
   "id": "cc71cbf8-b825-4ff5-8b8a-09aff373ed77",
   "metadata": {
    "tags": []
   },
   "source": [
    "# Pokemon\n",
    "\n",
    "We want to construct a binary classifier on the feature `\"type1\"`, which can obtain values in `[\"water\", \"normal\"]`"
   ]
  },
  {
   "cell_type": "markdown",
   "id": "d44223c7-d0ae-442e-9a5d-9eaaad11b613",
   "metadata": {
    "tags": []
   },
   "source": [
    "# Imports"
   ]
  },
  {
   "cell_type": "code",
   "execution_count": 1,
   "id": "fe652be6-bffa-4fe3-a32e-ef2a92fc0181",
   "metadata": {},
   "outputs": [],
   "source": [
    "import pandas as pd\n",
    "import numpy as np\n",
    "import matplotlib.pyplot as plt\n",
    "\n",
    "# Data processing\n",
    "from sklearn.preprocessing import LabelEncoder, StandardScaler\n",
    "from sklearn.impute import SimpleImputer\n",
    "from sklearn.model_selection import (\n",
    "    train_test_split,\n",
    "    StratifiedShuffleSplit,\n",
    "    RandomizedSearchCV,\n",
    "    LeaveOneOut,\n",
    ")\n",
    "\n",
    "# Testing\n",
    "from sklearn.metrics import (\n",
    "    accuracy_score,\n",
    "    roc_auc_score,\n",
    "    confusion_matrix,\n",
    "    ConfusionMatrixDisplay\n",
    ")\n",
    "\n",
    "# Utils\n",
    "from sklearn.utils.multiclass import type_of_target\n",
    "import pprint\n",
    "\n",
    "# Models\n",
    "from sklearn.linear_model import LogisticRegression\n",
    "from sklearn.svm import SVC\n",
    "from sklearn.tree import DecisionTreeClassifier\n",
    "from sklearn.ensemble import RandomForestClassifier"
   ]
  },
  {
   "cell_type": "markdown",
   "id": "28efd067-e590-4918-802d-9276315345c2",
   "metadata": {
    "tags": []
   },
   "source": [
    "# Random State\n",
    "\n",
    "We set a random state constant to be used throughout the notebook for better reproducibility."
   ]
  },
  {
   "cell_type": "code",
   "execution_count": 2,
   "id": "847c6c71-1400-4cb7-8809-0a4b61110e33",
   "metadata": {},
   "outputs": [],
   "source": [
    "RANDOM_STATE = 529"
   ]
  },
  {
   "cell_type": "markdown",
   "id": "97ab9dde-f2b9-417f-815c-404b2500ce75",
   "metadata": {
    "tags": []
   },
   "source": [
    "# Data Pre-Processing Stage\n",
    "\n",
    "We want to remove from our dataset all informations that should not be available to us, those are: `\"type2\"`, `\"abilities\"`, and every `\"against_\" + type` where `type` isn't `\"electric\"`. We can achieve this by dropping all columns matching the regular expression `\"type2|classification|abilities|against_(?!electric)\"` (in fact, there is a typo in the database, and \"classification\" is written as \"classfication\"). It should also be noted that the columns `[\"pokedex_number\", \"name\", \"japanese_name\"]` columns are irrelevant for our classification problem, so  we'll also drop it. One may think that `\"generation\"` should also be dropped but it is known that different generations have distinct typing distributions so we'll stick to it.\n",
    "\n",
    "In a second thought, the `\"name\"` column may be an interesting feature to exploit due to the fact that pokemons tend to maintain a suffix or prefix throughout the whole line of evolution. This however would require an encoder that preserves string morphology in order to maintain the similarities between the pokemon names. For the time being I do not know of a technique which can deal with this."
   ]
  },
  {
   "cell_type": "code",
   "execution_count": 3,
   "id": "c08f9859-0bd4-4c1c-8729-78b9a758d2eb",
   "metadata": {},
   "outputs": [],
   "source": [
    "df = pd.read_csv(\"datasets/pokemon/pokemon.csv\")\n",
    "unknown = \"type2|classfication|abilities|against_(?!electric)\"\n",
    "irrelevant = \"pokedex_number|name|japanese_name\"\n",
    "df = df.drop(df.filter(regex=f\"{unknown}|{irrelevant}\", axis=1), axis=1)"
   ]
  },
  {
   "cell_type": "markdown",
   "id": "5447f3ac-3ce7-4230-9147-4191750285e5",
   "metadata": {},
   "source": [
    "Lets take a look at what we have in our hands by looking at the first few rows and the column names that remain in our dataframe."
   ]
  },
  {
   "cell_type": "code",
   "execution_count": 4,
   "id": "7f2f9807-123b-46bd-9bd7-7f58caa0b4a5",
   "metadata": {
    "tags": []
   },
   "outputs": [
    {
     "data": {
      "text/html": [
       "<div>\n",
       "<style scoped>\n",
       "    .dataframe tbody tr th:only-of-type {\n",
       "        vertical-align: middle;\n",
       "    }\n",
       "\n",
       "    .dataframe tbody tr th {\n",
       "        vertical-align: top;\n",
       "    }\n",
       "\n",
       "    .dataframe thead th {\n",
       "        text-align: right;\n",
       "    }\n",
       "</style>\n",
       "<table border=\"1\" class=\"dataframe\">\n",
       "  <thead>\n",
       "    <tr style=\"text-align: right;\">\n",
       "      <th></th>\n",
       "      <th>against_electric</th>\n",
       "      <th>attack</th>\n",
       "      <th>base_egg_steps</th>\n",
       "      <th>base_happiness</th>\n",
       "      <th>base_total</th>\n",
       "      <th>capture_rate</th>\n",
       "      <th>defense</th>\n",
       "      <th>experience_growth</th>\n",
       "      <th>height_m</th>\n",
       "      <th>hp</th>\n",
       "      <th>percentage_male</th>\n",
       "      <th>sp_attack</th>\n",
       "      <th>sp_defense</th>\n",
       "      <th>speed</th>\n",
       "      <th>type1</th>\n",
       "      <th>weight_kg</th>\n",
       "      <th>generation</th>\n",
       "      <th>is_legendary</th>\n",
       "    </tr>\n",
       "  </thead>\n",
       "  <tbody>\n",
       "    <tr>\n",
       "      <th>0</th>\n",
       "      <td>0.5</td>\n",
       "      <td>49</td>\n",
       "      <td>5120</td>\n",
       "      <td>70</td>\n",
       "      <td>318</td>\n",
       "      <td>45</td>\n",
       "      <td>49</td>\n",
       "      <td>1059860</td>\n",
       "      <td>0.7</td>\n",
       "      <td>45</td>\n",
       "      <td>88.1</td>\n",
       "      <td>65</td>\n",
       "      <td>65</td>\n",
       "      <td>45</td>\n",
       "      <td>grass</td>\n",
       "      <td>6.9</td>\n",
       "      <td>1</td>\n",
       "      <td>0</td>\n",
       "    </tr>\n",
       "    <tr>\n",
       "      <th>1</th>\n",
       "      <td>0.5</td>\n",
       "      <td>62</td>\n",
       "      <td>5120</td>\n",
       "      <td>70</td>\n",
       "      <td>405</td>\n",
       "      <td>45</td>\n",
       "      <td>63</td>\n",
       "      <td>1059860</td>\n",
       "      <td>1.0</td>\n",
       "      <td>60</td>\n",
       "      <td>88.1</td>\n",
       "      <td>80</td>\n",
       "      <td>80</td>\n",
       "      <td>60</td>\n",
       "      <td>grass</td>\n",
       "      <td>13.0</td>\n",
       "      <td>1</td>\n",
       "      <td>0</td>\n",
       "    </tr>\n",
       "    <tr>\n",
       "      <th>2</th>\n",
       "      <td>0.5</td>\n",
       "      <td>100</td>\n",
       "      <td>5120</td>\n",
       "      <td>70</td>\n",
       "      <td>625</td>\n",
       "      <td>45</td>\n",
       "      <td>123</td>\n",
       "      <td>1059860</td>\n",
       "      <td>2.0</td>\n",
       "      <td>80</td>\n",
       "      <td>88.1</td>\n",
       "      <td>122</td>\n",
       "      <td>120</td>\n",
       "      <td>80</td>\n",
       "      <td>grass</td>\n",
       "      <td>100.0</td>\n",
       "      <td>1</td>\n",
       "      <td>0</td>\n",
       "    </tr>\n",
       "    <tr>\n",
       "      <th>3</th>\n",
       "      <td>1.0</td>\n",
       "      <td>52</td>\n",
       "      <td>5120</td>\n",
       "      <td>70</td>\n",
       "      <td>309</td>\n",
       "      <td>45</td>\n",
       "      <td>43</td>\n",
       "      <td>1059860</td>\n",
       "      <td>0.6</td>\n",
       "      <td>39</td>\n",
       "      <td>88.1</td>\n",
       "      <td>60</td>\n",
       "      <td>50</td>\n",
       "      <td>65</td>\n",
       "      <td>fire</td>\n",
       "      <td>8.5</td>\n",
       "      <td>1</td>\n",
       "      <td>0</td>\n",
       "    </tr>\n",
       "    <tr>\n",
       "      <th>4</th>\n",
       "      <td>1.0</td>\n",
       "      <td>64</td>\n",
       "      <td>5120</td>\n",
       "      <td>70</td>\n",
       "      <td>405</td>\n",
       "      <td>45</td>\n",
       "      <td>58</td>\n",
       "      <td>1059860</td>\n",
       "      <td>1.1</td>\n",
       "      <td>58</td>\n",
       "      <td>88.1</td>\n",
       "      <td>80</td>\n",
       "      <td>65</td>\n",
       "      <td>80</td>\n",
       "      <td>fire</td>\n",
       "      <td>19.0</td>\n",
       "      <td>1</td>\n",
       "      <td>0</td>\n",
       "    </tr>\n",
       "  </tbody>\n",
       "</table>\n",
       "</div>"
      ],
      "text/plain": [
       "   against_electric  attack  base_egg_steps  base_happiness  base_total  \\\n",
       "0               0.5      49            5120              70         318   \n",
       "1               0.5      62            5120              70         405   \n",
       "2               0.5     100            5120              70         625   \n",
       "3               1.0      52            5120              70         309   \n",
       "4               1.0      64            5120              70         405   \n",
       "\n",
       "  capture_rate  defense  experience_growth  height_m  hp  percentage_male  \\\n",
       "0           45       49            1059860       0.7  45             88.1   \n",
       "1           45       63            1059860       1.0  60             88.1   \n",
       "2           45      123            1059860       2.0  80             88.1   \n",
       "3           45       43            1059860       0.6  39             88.1   \n",
       "4           45       58            1059860       1.1  58             88.1   \n",
       "\n",
       "   sp_attack  sp_defense  speed  type1  weight_kg  generation  is_legendary  \n",
       "0         65          65     45  grass        6.9           1             0  \n",
       "1         80          80     60  grass       13.0           1             0  \n",
       "2        122         120     80  grass      100.0           1             0  \n",
       "3         60          50     65   fire        8.5           1             0  \n",
       "4         80          65     80   fire       19.0           1             0  "
      ]
     },
     "execution_count": 4,
     "metadata": {},
     "output_type": "execute_result"
    }
   ],
   "source": [
    "df.head()"
   ]
  },
  {
   "cell_type": "markdown",
   "id": "cd1ea727-e8dd-40ff-bde9-49daa2e6111b",
   "metadata": {
    "tags": []
   },
   "source": [
    "## The Minior Case\n",
    "\n",
    "Upon inspection, the pokemon named Minior (row 773) has a catch rate (column 5) that is described as `\"30 (Meteorite)255 (Core)\"` so I decided to use the core catch rate 255 in order to be execute our substitution strategy for missing values correctly."
   ]
  },
  {
   "cell_type": "code",
   "execution_count": 5,
   "id": "c3d47a14-3f90-4131-8536-620e73862fc7",
   "metadata": {
    "tags": []
   },
   "outputs": [
    {
     "name": "stdout",
     "output_type": "stream",
     "text": [
      "30 (Meteorite)255 (Core)\n"
     ]
    }
   ],
   "source": [
    "print(df.iloc[773, 5])\n",
    "df.iloc[773, 5] = 255"
   ]
  },
  {
   "cell_type": "markdown",
   "id": "ed60bd34-8ee0-4dc1-a2fb-912ca6558f35",
   "metadata": {
    "tags": []
   },
   "source": [
    "## Choice of Features and Target Label\n",
    "\n",
    "Below we choose the features that models should consider when predicting the target labelling function."
   ]
  },
  {
   "cell_type": "code",
   "execution_count": 6,
   "id": "1ee2f50d-db88-4404-bb37-da2926787c18",
   "metadata": {
    "tags": []
   },
   "outputs": [],
   "source": [
    "FEATURES = [\n",
    "    #\"base_total\",\n",
    "    #\"speed\",\n",
    "    #\"capture_rate\",\n",
    "    #\"experience_growth\",\n",
    "    #\"base_egg_steps\",\n",
    "    #\"height_m\",\n",
    "    #\"weight_kg\",\n",
    "    #\"hp\",\n",
    "    #\"sp_attack\",\n",
    "    #\"attack\",\n",
    "    #\"defense\",\n",
    "    #\"sp_defense\",\n",
    "    \"against_electric\",\n",
    "    #\"base_happiness\",\n",
    "    #\"percentage_male\",\n",
    "    #\"is_legendary\",\n",
    "    #\"generation\",\n",
    "]\n",
    "LABEL = \"type1\""
   ]
  },
  {
   "cell_type": "markdown",
   "id": "dfeb21bb-6e19-43f2-a467-2ca7349642f5",
   "metadata": {
    "tags": []
   },
   "source": [
    "## Filtering Pokemon Types\n",
    "\n",
    "We'll only consider pokemons for which `\"type1\"` is in `[\"water\", \"normal\"]`, so we create a function that removes every pokemon (row) that doesn't have an allowed type."
   ]
  },
  {
   "cell_type": "code",
   "execution_count": 7,
   "id": "c5ba03e9-d21d-428a-be46-13bfc9ce2239",
   "metadata": {
    "tags": []
   },
   "outputs": [],
   "source": [
    "def filter_rows_by_value(df, col, values):\n",
    "    return df[~df[col].isin(values)]"
   ]
  },
  {
   "cell_type": "code",
   "execution_count": 8,
   "id": "2d90c617-f791-4613-a0c3-4c44dec2586d",
   "metadata": {
    "tags": []
   },
   "outputs": [],
   "source": [
    "ALL_TYPE1 = set(df[\"type1\"].unique())\n",
    "ALLOWED_TYPE1 = {\"water\", \"normal\"}\n",
    "\n",
    "df = filter_rows_by_value(df, LABEL, ALL_TYPE1 - ALLOWED_TYPE1).reset_index()"
   ]
  },
  {
   "cell_type": "code",
   "execution_count": 9,
   "id": "450208ee-3362-4538-96ec-e07a88503aa5",
   "metadata": {},
   "outputs": [
    {
     "data": {
      "text/html": [
       "<div>\n",
       "<style scoped>\n",
       "    .dataframe tbody tr th:only-of-type {\n",
       "        vertical-align: middle;\n",
       "    }\n",
       "\n",
       "    .dataframe tbody tr th {\n",
       "        vertical-align: top;\n",
       "    }\n",
       "\n",
       "    .dataframe thead th {\n",
       "        text-align: right;\n",
       "    }\n",
       "</style>\n",
       "<table border=\"1\" class=\"dataframe\">\n",
       "  <thead>\n",
       "    <tr style=\"text-align: right;\">\n",
       "      <th></th>\n",
       "      <th>index</th>\n",
       "      <th>against_electric</th>\n",
       "      <th>attack</th>\n",
       "      <th>base_egg_steps</th>\n",
       "      <th>base_happiness</th>\n",
       "      <th>base_total</th>\n",
       "      <th>capture_rate</th>\n",
       "      <th>defense</th>\n",
       "      <th>experience_growth</th>\n",
       "      <th>height_m</th>\n",
       "      <th>hp</th>\n",
       "      <th>percentage_male</th>\n",
       "      <th>sp_attack</th>\n",
       "      <th>sp_defense</th>\n",
       "      <th>speed</th>\n",
       "      <th>type1</th>\n",
       "      <th>weight_kg</th>\n",
       "      <th>generation</th>\n",
       "      <th>is_legendary</th>\n",
       "    </tr>\n",
       "  </thead>\n",
       "  <tbody>\n",
       "    <tr>\n",
       "      <th>0</th>\n",
       "      <td>6</td>\n",
       "      <td>2.0</td>\n",
       "      <td>48</td>\n",
       "      <td>5120</td>\n",
       "      <td>70</td>\n",
       "      <td>314</td>\n",
       "      <td>45</td>\n",
       "      <td>65</td>\n",
       "      <td>1059860</td>\n",
       "      <td>0.5</td>\n",
       "      <td>44</td>\n",
       "      <td>88.1</td>\n",
       "      <td>50</td>\n",
       "      <td>64</td>\n",
       "      <td>43</td>\n",
       "      <td>water</td>\n",
       "      <td>9.0</td>\n",
       "      <td>1</td>\n",
       "      <td>0</td>\n",
       "    </tr>\n",
       "    <tr>\n",
       "      <th>1</th>\n",
       "      <td>7</td>\n",
       "      <td>2.0</td>\n",
       "      <td>63</td>\n",
       "      <td>5120</td>\n",
       "      <td>70</td>\n",
       "      <td>405</td>\n",
       "      <td>45</td>\n",
       "      <td>80</td>\n",
       "      <td>1059860</td>\n",
       "      <td>1.0</td>\n",
       "      <td>59</td>\n",
       "      <td>88.1</td>\n",
       "      <td>65</td>\n",
       "      <td>80</td>\n",
       "      <td>58</td>\n",
       "      <td>water</td>\n",
       "      <td>22.5</td>\n",
       "      <td>1</td>\n",
       "      <td>0</td>\n",
       "    </tr>\n",
       "    <tr>\n",
       "      <th>2</th>\n",
       "      <td>8</td>\n",
       "      <td>2.0</td>\n",
       "      <td>103</td>\n",
       "      <td>5120</td>\n",
       "      <td>70</td>\n",
       "      <td>630</td>\n",
       "      <td>45</td>\n",
       "      <td>120</td>\n",
       "      <td>1059860</td>\n",
       "      <td>1.6</td>\n",
       "      <td>79</td>\n",
       "      <td>88.1</td>\n",
       "      <td>135</td>\n",
       "      <td>115</td>\n",
       "      <td>78</td>\n",
       "      <td>water</td>\n",
       "      <td>85.5</td>\n",
       "      <td>1</td>\n",
       "      <td>0</td>\n",
       "    </tr>\n",
       "    <tr>\n",
       "      <th>3</th>\n",
       "      <td>15</td>\n",
       "      <td>2.0</td>\n",
       "      <td>45</td>\n",
       "      <td>3840</td>\n",
       "      <td>70</td>\n",
       "      <td>251</td>\n",
       "      <td>255</td>\n",
       "      <td>40</td>\n",
       "      <td>1059860</td>\n",
       "      <td>0.3</td>\n",
       "      <td>40</td>\n",
       "      <td>50.0</td>\n",
       "      <td>35</td>\n",
       "      <td>35</td>\n",
       "      <td>56</td>\n",
       "      <td>normal</td>\n",
       "      <td>1.8</td>\n",
       "      <td>1</td>\n",
       "      <td>0</td>\n",
       "    </tr>\n",
       "    <tr>\n",
       "      <th>4</th>\n",
       "      <td>16</td>\n",
       "      <td>2.0</td>\n",
       "      <td>60</td>\n",
       "      <td>3840</td>\n",
       "      <td>70</td>\n",
       "      <td>349</td>\n",
       "      <td>120</td>\n",
       "      <td>55</td>\n",
       "      <td>1059860</td>\n",
       "      <td>1.1</td>\n",
       "      <td>63</td>\n",
       "      <td>50.0</td>\n",
       "      <td>50</td>\n",
       "      <td>50</td>\n",
       "      <td>71</td>\n",
       "      <td>normal</td>\n",
       "      <td>30.0</td>\n",
       "      <td>1</td>\n",
       "      <td>0</td>\n",
       "    </tr>\n",
       "  </tbody>\n",
       "</table>\n",
       "</div>"
      ],
      "text/plain": [
       "   index  against_electric  attack  base_egg_steps  base_happiness  \\\n",
       "0      6               2.0      48            5120              70   \n",
       "1      7               2.0      63            5120              70   \n",
       "2      8               2.0     103            5120              70   \n",
       "3     15               2.0      45            3840              70   \n",
       "4     16               2.0      60            3840              70   \n",
       "\n",
       "   base_total capture_rate  defense  experience_growth  height_m  hp  \\\n",
       "0         314           45       65            1059860       0.5  44   \n",
       "1         405           45       80            1059860       1.0  59   \n",
       "2         630           45      120            1059860       1.6  79   \n",
       "3         251          255       40            1059860       0.3  40   \n",
       "4         349          120       55            1059860       1.1  63   \n",
       "\n",
       "   percentage_male  sp_attack  sp_defense  speed   type1  weight_kg  \\\n",
       "0             88.1         50          64     43   water        9.0   \n",
       "1             88.1         65          80     58   water       22.5   \n",
       "2             88.1        135         115     78   water       85.5   \n",
       "3             50.0         35          35     56  normal        1.8   \n",
       "4             50.0         50          50     71  normal       30.0   \n",
       "\n",
       "   generation  is_legendary  \n",
       "0           1             0  \n",
       "1           1             0  \n",
       "2           1             0  \n",
       "3           1             0  \n",
       "4           1             0  "
      ]
     },
     "execution_count": 9,
     "metadata": {},
     "output_type": "execute_result"
    }
   ],
   "source": [
    "df.head()"
   ]
  },
  {
   "cell_type": "markdown",
   "id": "ecf90cd4-d48d-45c5-8a19-05282decd292",
   "metadata": {
    "tags": []
   },
   "source": [
    "## Separating Data and Labels"
   ]
  },
  {
   "cell_type": "code",
   "execution_count": 10,
   "id": "8fdb73df-bca3-4863-9d6d-445a561aff89",
   "metadata": {
    "tags": []
   },
   "outputs": [],
   "source": [
    "X = df[FEATURES].to_numpy()\n",
    "y = df[LABEL].to_numpy()"
   ]
  },
  {
   "cell_type": "markdown",
   "id": "9dfaa4f7-ed2d-475e-94a4-0e3f6b1499ae",
   "metadata": {
    "tags": []
   },
   "source": [
    "## Missing Data\n",
    "\n",
    "Lets check which features contain missing values and replace those with the mean of the feature across all pokemons."
   ]
  },
  {
   "cell_type": "code",
   "execution_count": 11,
   "id": "59180aa3-5d73-49a3-8167-cd2386ec0565",
   "metadata": {},
   "outputs": [],
   "source": [
    "imp = SimpleImputer(missing_values=np.nan, strategy=\"mean\")\n",
    "X = imp.fit_transform(X)"
   ]
  },
  {
   "cell_type": "markdown",
   "id": "1257ea5f-75b0-4905-93f9-e6f73d567989",
   "metadata": {
    "tags": []
   },
   "source": [
    "## Label Encoding\n",
    "\n",
    "Lets encode each label (pokemon `\"type1\"` feature) with a uniquely representing integer. We'll also store the encoding mapping in a dictionary called `encoder_mapping`."
   ]
  },
  {
   "cell_type": "code",
   "execution_count": 12,
   "id": "9efd0bc5-bd98-4075-b380-f0d8502d398d",
   "metadata": {
    "tags": []
   },
   "outputs": [],
   "source": [
    "encoder = LabelEncoder().fit(y)\n",
    "encoder_mapping = {type_: enc for enc, type_ in enumerate(encoder.classes_)}\n",
    "y = encoder.transform(y)"
   ]
  },
  {
   "cell_type": "code",
   "execution_count": 13,
   "id": "c5323dd0-a5af-492f-a535-b3a64440e691",
   "metadata": {
    "tags": []
   },
   "outputs": [
    {
     "name": "stdout",
     "output_type": "stream",
     "text": [
      "{'normal': 0, 'water': 1}\n"
     ]
    }
   ],
   "source": [
    "print(encoder_mapping)"
   ]
  },
  {
   "cell_type": "markdown",
   "id": "4dbfb325-49b4-47f4-9fe9-aa551d703dde",
   "metadata": {},
   "source": [
    "Later we'll use a stratification of the dataset grouping by the different types available in `\"type1\"`"
   ]
  },
  {
   "cell_type": "markdown",
   "id": "b4021424-ed46-402e-8c4a-d58428dba689",
   "metadata": {
    "tags": []
   },
   "source": [
    "## Feature Scaling\n",
    "\n",
    "Notice that features have a huge scaling issue. For instance, we can have `\"against_electric\"` with a value of `0.5` while an `\"experience_growth\"` of `1059860`. To avoid feature domination problems, we'll scale every column accordingly. "
   ]
  },
  {
   "cell_type": "code",
   "execution_count": 14,
   "id": "e7b2e2e9-8117-4c12-bde3-3f16ffd2ca1e",
   "metadata": {
    "tags": []
   },
   "outputs": [],
   "source": [
    "scaler = StandardScaler()\n",
    "X = scaler.fit_transform(X)"
   ]
  },
  {
   "cell_type": "markdown",
   "id": "c0bedf34-395b-4fa3-9495-6f2d5f481af9",
   "metadata": {
    "tags": []
   },
   "source": [
    "# Cross Validation and Hyperparameter Tuning"
   ]
  },
  {
   "cell_type": "markdown",
   "id": "fd0350d8-5f8b-4f0f-ae5c-42299f6af5ab",
   "metadata": {
    "tags": []
   },
   "source": [
    "## Separating Training, Validation, and Test Data\n",
    "\n",
    "First we'll split our data (preserving label proportion, that is, the splitting is stratified) into a test set `(X_test, y_test)` and a training set `(X_search, y_search)` to be used in the hyperparameter tuning and cross-validation stage."
   ]
  },
  {
   "cell_type": "markdown",
   "id": "3ec5b24f-e26e-46c6-8d31-0a7137edca1a",
   "metadata": {
    "tags": []
   },
   "source": [
    "## Constants"
   ]
  },
  {
   "cell_type": "code",
   "execution_count": 15,
   "id": "93acb758-238f-4790-b7ce-88ed4757ff89",
   "metadata": {},
   "outputs": [],
   "source": [
    "# Percentage of the whole dataset to be used as test.\n",
    "TEST_SIZE = 0.1\n",
    "\n",
    "# Percentage of the search data to be used as validation.\n",
    "VALIDATION_SIZE = 0.1\n",
    "\n",
    "# Number of splits for the cross-validation.\n",
    "N_SPLITS = 10\n",
    "\n",
    "# Number of iterations of the randomized searcher with cross-validation.\n",
    "N_ITER = 10 \n",
    "\n",
    "# Verboseness of the search (the higher, we have more verboseness).\n",
    "VERBOSE_LEVEL = 1\n",
    "\n",
    "# Cross-validation method to be used in conjunction with the hyperparameter tuning.\n",
    "CV_STRATEGY=StratifiedShuffleSplit "
   ]
  },
  {
   "cell_type": "markdown",
   "id": "6f57f215-da26-4740-ad12-8f742ed700de",
   "metadata": {},
   "source": [
    "## Search Set and Test Set Sampling"
   ]
  },
  {
   "cell_type": "code",
   "execution_count": 16,
   "id": "31fd1e8f-a796-4c8d-b4c3-6d7bc3c14e9e",
   "metadata": {},
   "outputs": [],
   "source": [
    "X_search, X_test, y_search, y_test = train_test_split(\n",
    "    X, y, shuffle=True, stratify=y, test_size=TEST_SIZE, random_state=RANDOM_STATE\n",
    ")"
   ]
  },
  {
   "cell_type": "markdown",
   "id": "4b05459f-51ad-4560-928f-934419cb9fe4",
   "metadata": {},
   "source": [
    "## Randomized Search with Cross Validation"
   ]
  },
  {
   "cell_type": "code",
   "execution_count": 17,
   "id": "5460cbb2-83bd-44a8-986c-f70a91545f0d",
   "metadata": {},
   "outputs": [],
   "source": [
    "def random_searcher(\n",
    "    estimator,\n",
    "    param_distributions,\n",
    "    X_search,\n",
    "    y_search,\n",
    "    X_test,\n",
    "    y_test,\n",
    "    n_iter=N_ITER,\n",
    "    cv=CV_STRATEGY,\n",
    "    n_splits=N_SPLITS\n",
    "):\n",
    "    rs = RandomizedSearchCV(\n",
    "        estimator=estimator(),\n",
    "        param_distributions=param_distributions,\n",
    "        n_iter=n_iter,\n",
    "        cv=cv(n_splits=n_splits, test_size=VALIDATION_SIZE, random_state=RANDOM_STATE),\n",
    "        verbose=VERBOSE_LEVEL,\n",
    "    ).fit(X_search, y_search, groups=y_search)\n",
    "    \n",
    "    predictions = rs.best_estimator_.predict(X_test)\n",
    "    \n",
    "    # This will automatically plot the confusion matrices.\n",
    "    cmap = plt.cm.BuPu\n",
    "    labels = list(encoder_mapping)\n",
    "    cm = ConfusionMatrixDisplay.from_predictions(\n",
    "        y_test,\n",
    "        predictions,\n",
    "        cmap=cmap,\n",
    "        display_labels=labels,\n",
    "    )\n",
    "    ncm = ConfusionMatrixDisplay.from_predictions(\n",
    "        y_test,\n",
    "        predictions,\n",
    "        cmap=cmap,\n",
    "        normalize=\"true\",\n",
    "        display_labels=labels,\n",
    "    )\n",
    "    \n",
    "    return {\n",
    "        \"model\": estimator.__name__,\n",
    "        \"dataset\": {\n",
    "            \"dataset size\": len(X),\n",
    "            \"number of features\": X_search.shape[1] if len(X_search.shape) == 2 else 1,\n",
    "            \"target type\": type_of_target(y),\n",
    "        },\n",
    "        \"hyperparameter tuning and cross-validation\": {\n",
    "            \"parameter seach strategy\": \"RandomizedSearchCV\",\n",
    "            \"number of search iterations\": n_iter,\n",
    "            \"search size\": len(X_search),\n",
    "            \"random state\": RANDOM_STATE,\n",
    "            \"cross validation strategy\": cv.__name__,\n",
    "            \"number of cross validation splits\": n_iter,\n",
    "            \"best estimator parameters\": rs.best_estimator_.get_params(),\n",
    "            \"mean accuracy in CV\": rs.best_score_,\n",
    "        },\n",
    "        \"test\": {\n",
    "            \"test size\": len(X_test),\n",
    "            \"accuracy\": accuracy_score(y_test, rs.best_estimator_.predict(X_test)),\n",
    "            \"confusion matrix\": cm.confusion_matrix,\n",
    "            \"normalized confusion matrix\": ncm.confusion_matrix,\n",
    "        },\n",
    "    }"
   ]
  },
  {
   "cell_type": "code",
   "execution_count": 18,
   "id": "257d809c-b692-4e6f-8671-ab3a638a52eb",
   "metadata": {},
   "outputs": [],
   "source": [
    "def print_searcher_info(searcher_results):\n",
    "    np.set_printoptions(precision=2)\n",
    "    model_name = searcher_results[\"model\"]\n",
    "    print(f\"{f' {model_name} ':=^80}\")\n",
    "    \n",
    "    for key in list(searcher_results)[1:]:\n",
    "        print(f\"\\n\\n{f' {key} ':-^80}\")\n",
    "        pprint.pprint(searcher_results[key], sort_dicts=False)"
   ]
  },
  {
   "cell_type": "markdown",
   "id": "02b3d720-9d2c-4e71-8dc7-256d8c577ff6",
   "metadata": {
    "tags": []
   },
   "source": [
    "# Model Evaluation"
   ]
  },
  {
   "cell_type": "markdown",
   "id": "97fab5d9-ef0b-4c4c-80a3-386b7001d209",
   "metadata": {},
   "source": [
    "## Logistic Regression"
   ]
  },
  {
   "cell_type": "code",
   "execution_count": 19,
   "id": "a83ac558-8cf5-4df7-b3d7-8690d2c4ea74",
   "metadata": {
    "tags": []
   },
   "outputs": [
    {
     "name": "stdout",
     "output_type": "stream",
     "text": [
      "Fitting 10 folds for each of 10 candidates, totalling 100 fits\n"
     ]
    },
    {
     "data": {
      "image/png": "[encoded data removed]",
      "text/plain": [
       "<Figure size 640x480 with 2 Axes>"
      ]
     },
     "metadata": {},
     "output_type": "display_data"
    },
    {
     "data": {
      "image/png": "[encoded data removed]",
      "text/plain": [
       "<Figure size 640x480 with 2 Axes>"
      ]
     },
     "metadata": {},
     "output_type": "display_data"
    }
   ],
   "source": [
    "param_distributions = {\n",
    "    \"C\": np.absolute(np.random.normal(loc=1.0, scale=1.0, size=100)),\n",
    "}\n",
    "logistic_regression = random_searcher(\n",
    "    LogisticRegression,\n",
    "    param_distributions,\n",
    "    X_search,\n",
    "    y_search,\n",
    "    X_test,\n",
    "    y_test\n",
    ")"
   ]
  },
  {
   "cell_type": "code",
   "execution_count": 20,
   "id": "490e418e-7a57-4acc-8670-8d5d8df9abb6",
   "metadata": {
    "tags": []
   },
   "outputs": [
    {
     "name": "stdout",
     "output_type": "stream",
     "text": [
      "============================== LogisticRegression ==============================\n",
      "\n",
      "\n",
      "----------------------------------- dataset ------------------------------------\n",
      "{'dataset size': 219, 'number of features': 1, 'target type': 'binary'}\n",
      "\n",
      "\n",
      "------------------ hyperparameter tuning and cross-validation ------------------\n",
      "{'parameter seach strategy': 'RandomizedSearchCV',\n",
      " 'number of search iterations': 10,\n",
      " 'search size': 197,\n",
      " 'random state': 529,\n",
      " 'cross validation strategy': 'StratifiedShuffleSplit',\n",
      " 'number of cross validation splits': 10,\n",
      " 'best estimator parameters': {'C': 1.6615843739754534,\n",
      "                               'class_weight': None,\n",
      "                               'dual': False,\n",
      "                               'fit_intercept': True,\n",
      "                               'intercept_scaling': 1,\n",
      "                               'l1_ratio': None,\n",
      "                               'max_iter': 100,\n",
      "                               'multi_class': 'auto',\n",
      "                               'n_jobs': None,\n",
      "                               'penalty': 'l2',\n",
      "                               'random_state': None,\n",
      "                               'solver': 'lbfgs',\n",
      "                               'tol': 0.0001,\n",
      "                               'verbose': 0,\n",
      "                               'warm_start': False},\n",
      " 'mean accuracy in CV': 0.795}\n",
      "\n",
      "\n",
      "------------------------------------- test -------------------------------------\n",
      "{'test size': 22,\n",
      " 'accuracy': 0.8636363636363636,\n",
      " 'confusion matrix': array([[ 8,  3],\n",
      "       [ 0, 11]]),\n",
      " 'normalized confusion matrix': array([[0.73, 0.27],\n",
      "       [0.  , 1.  ]])}\n"
     ]
    }
   ],
   "source": [
    "print_searcher_info(logistic_regression)"
   ]
  },
  {
   "cell_type": "markdown",
   "id": "9502a2ea-c8fd-4c9f-8482-94b278dcd0ac",
   "metadata": {},
   "source": [
    "## Support Vector Machines"
   ]
  },
  {
   "cell_type": "code",
   "execution_count": 21,
   "id": "f0f283a9-035b-4a67-8ea4-3935b0a5252e",
   "metadata": {
    "tags": []
   },
   "outputs": [
    {
     "name": "stdout",
     "output_type": "stream",
     "text": [
      "Fitting 10 folds for each of 10 candidates, totalling 100 fits\n"
     ]
    },
    {
     "data": {
      "image/png": "[encoded data removed]",
      "text/plain": [
       "<Figure size 640x480 with 2 Axes>"
      ]
     },
     "metadata": {},
     "output_type": "display_data"
    },
    {
     "data": {
      "image/png": "[encoded data removed]",
      "text/plain": [
       "<Figure size 640x480 with 2 Axes>"
      ]
     },
     "metadata": {},
     "output_type": "display_data"
    }
   ],
   "source": [
    "param_distributions = {\n",
    "    \"C\": np.absolute(np.random.normal(loc=1.0, scale=1.0, size=10)),\n",
    "    \"gamma\": [\"scale\", \"auto\"] + np.absolute(np.random.normal(size=5)).tolist(),\n",
    "    \"kernel\": [\"linear\", \"poly\", \"rbf\", \"sigmoid\"],\n",
    "    \"degree\": np.arange(1, 6),\n",
    "    \"random_state\": [RANDOM_STATE],\n",
    "}\n",
    "support_vector_machine = random_searcher(\n",
    "    SVC,\n",
    "    param_distributions,\n",
    "    X_search,\n",
    "    y_search,\n",
    "    X_test,\n",
    "    y_test\n",
    ")"
   ]
  },
  {
   "cell_type": "code",
   "execution_count": 22,
   "id": "3f4b4ed6-8717-4574-a6ea-d8dc2dbc4672",
   "metadata": {},
   "outputs": [
    {
     "name": "stdout",
     "output_type": "stream",
     "text": [
      "===================================== SVC ======================================\n",
      "\n",
      "\n",
      "----------------------------------- dataset ------------------------------------\n",
      "{'dataset size': 219, 'number of features': 1, 'target type': 'binary'}\n",
      "\n",
      "\n",
      "------------------ hyperparameter tuning and cross-validation ------------------\n",
      "{'parameter seach strategy': 'RandomizedSearchCV',\n",
      " 'number of search iterations': 10,\n",
      " 'search size': 197,\n",
      " 'random state': 529,\n",
      " 'cross validation strategy': 'StratifiedShuffleSplit',\n",
      " 'number of cross validation splits': 10,\n",
      " 'best estimator parameters': {'C': 1.4466550355481909,\n",
      "                               'break_ties': False,\n",
      "                               'cache_size': 200,\n",
      "                               'class_weight': None,\n",
      "                               'coef0': 0.0,\n",
      "                               'decision_function_shape': 'ovr',\n",
      "                               'degree': 3,\n",
      "                               'gamma': 0.9210430653521947,\n",
      "                               'kernel': 'rbf',\n",
      "                               'max_iter': -1,\n",
      "                               'probability': False,\n",
      "                               'random_state': 529,\n",
      "                               'shrinking': True,\n",
      "                               'tol': 0.001,\n",
      "                               'verbose': False},\n",
      " 'mean accuracy in CV': 0.8550000000000001}\n",
      "\n",
      "\n",
      "------------------------------------- test -------------------------------------\n",
      "{'test size': 22,\n",
      " 'accuracy': 0.8636363636363636,\n",
      " 'confusion matrix': array([[ 8,  3],\n",
      "       [ 0, 11]]),\n",
      " 'normalized confusion matrix': array([[0.73, 0.27],\n",
      "       [0.  , 1.  ]])}\n"
     ]
    }
   ],
   "source": [
    "print_searcher_info(support_vector_machine)"
   ]
  },
  {
   "cell_type": "markdown",
   "id": "8f3228a4-da06-4b92-8157-c722cbd98234",
   "metadata": {},
   "source": [
    "## Decision Tree"
   ]
  },
  {
   "cell_type": "code",
   "execution_count": 23,
   "id": "0d4d16bc-8973-40f5-aae0-16a51d3b0415",
   "metadata": {
    "tags": []
   },
   "outputs": [
    {
     "name": "stdout",
     "output_type": "stream",
     "text": [
      "Fitting 10 folds for each of 10 candidates, totalling 100 fits\n"
     ]
    },
    {
     "data": {
      "image/png": "[encoded data removed]",
      "text/plain": [
       "<Figure size 640x480 with 2 Axes>"
      ]
     },
     "metadata": {},
     "output_type": "display_data"
    },
    {
     "data": {
      "image/png": "[encoded data removed]",
      "text/plain": [
       "<Figure size 640x480 with 2 Axes>"
      ]
     },
     "metadata": {},
     "output_type": "display_data"
    }
   ],
   "source": [
    "param_distributions = {\n",
    "    \"criterion\": [\"gini\", \"entropy\", \"log_loss\"],\n",
    "    \"max_depth\": np.arange(1, 20),\n",
    "    \"max_leaf_nodes\": np.arange(20, 70),\n",
    "    \"min_samples_leaf\": np.arange(1, 4),\n",
    "    \"random_state\": [RANDOM_STATE],\n",
    "}\n",
    "decision_tree = random_searcher(\n",
    "    DecisionTreeClassifier,\n",
    "    param_distributions,\n",
    "    X_search,\n",
    "    y_search,\n",
    "    X_test,\n",
    "    y_test\n",
    ")"
   ]
  },
  {
   "cell_type": "code",
   "execution_count": 24,
   "id": "3f66d88e-c41f-4f3b-807c-62c4d0eb079e",
   "metadata": {
    "tags": []
   },
   "outputs": [
    {
     "name": "stdout",
     "output_type": "stream",
     "text": [
      "============================ DecisionTreeClassifier ============================\n",
      "\n",
      "\n",
      "----------------------------------- dataset ------------------------------------\n",
      "{'dataset size': 219, 'number of features': 1, 'target type': 'binary'}\n",
      "\n",
      "\n",
      "------------------ hyperparameter tuning and cross-validation ------------------\n",
      "{'parameter seach strategy': 'RandomizedSearchCV',\n",
      " 'number of search iterations': 10,\n",
      " 'search size': 197,\n",
      " 'random state': 529,\n",
      " 'cross validation strategy': 'StratifiedShuffleSplit',\n",
      " 'number of cross validation splits': 10,\n",
      " 'best estimator parameters': {'ccp_alpha': 0.0,\n",
      "                               'class_weight': None,\n",
      "                               'criterion': 'entropy',\n",
      "                               'max_depth': 13,\n",
      "                               'max_features': None,\n",
      "                               'max_leaf_nodes': 36,\n",
      "                               'min_impurity_decrease': 0.0,\n",
      "                               'min_samples_leaf': 1,\n",
      "                               'min_samples_split': 2,\n",
      "                               'min_weight_fraction_leaf': 0.0,\n",
      "                               'random_state': 529,\n",
      "                               'splitter': 'best'},\n",
      " 'mean accuracy in CV': 0.8550000000000001}\n",
      "\n",
      "\n",
      "------------------------------------- test -------------------------------------\n",
      "{'test size': 22,\n",
      " 'accuracy': 0.8636363636363636,\n",
      " 'confusion matrix': array([[ 8,  3],\n",
      "       [ 0, 11]]),\n",
      " 'normalized confusion matrix': array([[0.73, 0.27],\n",
      "       [0.  , 1.  ]])}\n"
     ]
    }
   ],
   "source": [
    "print_searcher_info(decision_tree)"
   ]
  },
  {
   "cell_type": "markdown",
   "id": "ac685ab8-c4d6-455f-8826-0b6d6fc0922c",
   "metadata": {},
   "source": [
    "## Random Forest"
   ]
  },
  {
   "cell_type": "code",
   "execution_count": 25,
   "id": "730fd2cb-d2b8-48e9-8cd8-70017a6b2949",
   "metadata": {
    "tags": []
   },
   "outputs": [
    {
     "name": "stdout",
     "output_type": "stream",
     "text": [
      "Fitting 10 folds for each of 5 candidates, totalling 50 fits\n"
     ]
    },
    {
     "data": {
      "image/png": "[encoded data removed]",
      "text/plain": [
       "<Figure size 640x480 with 2 Axes>"
      ]
     },
     "metadata": {},
     "output_type": "display_data"
    },
    {
     "data": {
      "image/png": "[encoded data removed]",
      "text/plain": [
       "<Figure size 640x480 with 2 Axes>"
      ]
     },
     "metadata": {},
     "output_type": "display_data"
    }
   ],
   "source": [
    "param_distributions = {\n",
    "    \"n_estimators\": np.arange(100, 1500, 100),\n",
    "    \"criterion\": [\"gini\", \"entropy\", \"log_loss\"],\n",
    "    \"max_depth\": np.arange(1, 20),\n",
    "    \"min_samples_leaf\": np.arange(1, 4),\n",
    "    \"random_state\": [RANDOM_STATE],\n",
    "    \"n_jobs\": [-1], # Use all cores\n",
    "}\n",
    "random_forest = random_searcher(\n",
    "    RandomForestClassifier,\n",
    "    param_distributions,\n",
    "    X_search,\n",
    "    y_search,\n",
    "    X_test,\n",
    "    y_test,\n",
    "    n_iter=5\n",
    ")"
   ]
  },
  {
   "cell_type": "code",
   "execution_count": 26,
   "id": "731ec65b-5193-44f9-9189-1830ed28a56d",
   "metadata": {
    "tags": []
   },
   "outputs": [
    {
     "name": "stdout",
     "output_type": "stream",
     "text": [
      "============================ RandomForestClassifier ============================\n",
      "\n",
      "\n",
      "----------------------------------- dataset ------------------------------------\n",
      "{'dataset size': 219, 'number of features': 1, 'target type': 'binary'}\n",
      "\n",
      "\n",
      "------------------ hyperparameter tuning and cross-validation ------------------\n",
      "{'parameter seach strategy': 'RandomizedSearchCV',\n",
      " 'number of search iterations': 5,\n",
      " 'search size': 197,\n",
      " 'random state': 529,\n",
      " 'cross validation strategy': 'StratifiedShuffleSplit',\n",
      " 'number of cross validation splits': 5,\n",
      " 'best estimator parameters': {'bootstrap': True,\n",
      "                               'ccp_alpha': 0.0,\n",
      "                               'class_weight': None,\n",
      "                               'criterion': 'gini',\n",
      "                               'max_depth': 18,\n",
      "                               'max_features': 'sqrt',\n",
      "                               'max_leaf_nodes': None,\n",
      "                               'max_samples': None,\n",
      "                               'min_impurity_decrease': 0.0,\n",
      "                               'min_samples_leaf': 2,\n",
      "                               'min_samples_split': 2,\n",
      "                               'min_weight_fraction_leaf': 0.0,\n",
      "                               'n_estimators': 700,\n",
      "                               'n_jobs': -1,\n",
      "                               'oob_score': False,\n",
      "                               'random_state': 529,\n",
      "                               'verbose': 0,\n",
      "                               'warm_start': False},\n",
      " 'mean accuracy in CV': 0.8550000000000001}\n",
      "\n",
      "\n",
      "------------------------------------- test -------------------------------------\n",
      "{'test size': 22,\n",
      " 'accuracy': 0.8636363636363636,\n",
      " 'confusion matrix': array([[ 8,  3],\n",
      "       [ 0, 11]]),\n",
      " 'normalized confusion matrix': array([[0.73, 0.27],\n",
      "       [0.  , 1.  ]])}\n"
     ]
    }
   ],
   "source": [
    "print_searcher_info(random_forest)"
   ]
  },
  {
   "cell_type": "markdown",
   "id": "7d37de11-ba7f-4b87-8f60-1ff61c1c3674",
   "metadata": {},
   "source": [
    "# Conclusion\n",
    "\n",
    "Lets summarize all of the accuracy scores:"
   ]
  },
  {
   "cell_type": "code",
   "execution_count": 27,
   "id": "12a09d06-8d28-4d14-8aad-4deade6adfc1",
   "metadata": {
    "tags": []
   },
   "outputs": [
    {
     "name": "stdout",
     "output_type": "stream",
     "text": [
      "LogisticRegression accuracy: 0.864\n",
      "SVC accuracy: 0.864\n",
      "DecisionTreeClassifier accuracy: 0.864\n",
      "RandomForestClassifier accuracy: 0.864\n"
     ]
    }
   ],
   "source": [
    "models = [logistic_regression, support_vector_machine, decision_tree, random_forest]\n",
    "\n",
    "for model in models:\n",
    "    print(f\"{model['model']} accuracy: {model['test']['accuracy']:.3f}\")"
   ]
  },
  {
   "cell_type": "markdown",
   "id": "0364c304-9272-4d5e-85fa-7ef698adeaa7",
   "metadata": {},
   "source": [
    "The results above are favorable for the tree based models (decision tree and random forest), with scores ranging from 86% to 90%. However, logistic regression and support vector machine models do not sit at bad position too, with scores around 86%."
   ]
  }
 ],
 "metadata": {
  "kernelspec": {
   "display_name": "Python (notebooks)",
   "language": "python",
   "name": "python3"
  },
  "language_info": {
   "codemirror_mode": {
    "name": "ipython",
    "version": 3
   },
   "file_extension": ".py",
   "mimetype": "text/x-python",
   "name": "python",
   "nbconvert_exporter": "python",
   "pygments_lexer": "ipython3",
   "version": "3.11.3"
  },
  "toc-autonumbering": true,
  "toc-showcode": false,
  "toc-showmarkdowntxt": false
 },
 "nbformat": 4,
 "nbformat_minor": 5
}
